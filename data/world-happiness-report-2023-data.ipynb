{
 "cells": [
  {
   "cell_type": "markdown",
   "id": "e33a68e8",
   "metadata": {
    "papermill": {
     "duration": 0.010693,
     "end_time": "2023-09-08T10:58:49.429494",
     "exception": false,
     "start_time": "2023-09-08T10:58:49.418801",
     "status": "completed"
    },
    "tags": []
   },
   "source": [
    "# **Introduction:**\n",
    "\n",
    "The aim of this project is to analyse the 2023 World Happiness Report to understand which factors in the dataset correlate most to the happiness score of a country. I will also join the data with other datasets on countries to recognise other trends such as geography and language and their correlation to the happiness score\n",
    "\n",
    "The World Happiness Report is an annual report conducted by the Gallup World Poll which asks more than 100,000 people in 124 countries questions including ‘their perception of corruption in their country’, and their ‘freedom to make life choices’ as well as conducting the happiness score of each antion. 2023 marks their 11th year of the survey.\n"
   ]
  },
  {
   "cell_type": "markdown",
   "id": "ebd2cfba",
   "metadata": {
    "papermill": {
     "duration": 0.009839,
     "end_time": "2023-09-08T10:58:49.450519",
     "exception": false,
     "start_time": "2023-09-08T10:58:49.440680",
     "status": "completed"
    },
    "tags": []
   },
   "source": [
    "# **Data Importing**"
   ]
  },
  {
   "cell_type": "code",
   "execution_count": 1,
   "id": "a2cece18",
   "metadata": {
    "execution": {
     "iopub.execute_input": "2023-09-08T10:58:49.472684Z",
     "iopub.status.busy": "2023-09-08T10:58:49.472132Z",
     "iopub.status.idle": "2023-09-08T10:58:52.841274Z",
     "shell.execute_reply": "2023-09-08T10:58:52.839492Z"
    },
    "papermill": {
     "duration": 3.383722,
     "end_time": "2023-09-08T10:58:52.844230",
     "exception": false,
     "start_time": "2023-09-08T10:58:49.460508",
     "status": "completed"
    },
    "tags": [],
    "ExecuteTime": {
     "end_time": "2023-12-10T15:59:12.896931900Z",
     "start_time": "2023-12-10T15:59:12.834912100Z"
    }
   },
   "outputs": [],
   "source": [
    "# Importing necessary packages\n",
    "import pandas as pd\n",
    "import numpy as np\n",
    "import matplotlib.pyplot as plt\n",
    "import seaborn as sns\n",
    "import plotly.express as px"
   ]
  },
  {
   "cell_type": "code",
   "execution_count": 6,
   "id": "dfe43061",
   "metadata": {
    "execution": {
     "iopub.execute_input": "2023-09-08T10:58:52.869946Z",
     "iopub.status.busy": "2023-09-08T10:58:52.869209Z",
     "iopub.status.idle": "2023-09-08T10:58:52.931251Z",
     "shell.execute_reply": "2023-09-08T10:58:52.929983Z"
    },
    "papermill": {
     "duration": 0.077685,
     "end_time": "2023-09-08T10:58:52.934732",
     "exception": false,
     "start_time": "2023-09-08T10:58:52.857047",
     "status": "completed"
    },
    "tags": [],
    "ExecuteTime": {
     "end_time": "2023-12-10T16:00:03.527245Z",
     "start_time": "2023-12-10T16:00:03.495733300Z"
    }
   },
   "outputs": [],
   "source": [
    "#import world happiness record file\n",
    "whr23= pd.read_csv('WHR2023.csv')\n",
    "\n",
    "# import'world-data-2023.csv' file \n",
    "world_data = pd.read_csv('world-data-2023.csv')\n",
    "\n",
    "# import'continent.csv' file \n",
    "continent_file= pd.read_csv('continents2.csv')"
   ]
  },
  {
   "cell_type": "markdown",
   "id": "2c488837",
   "metadata": {
    "papermill": {
     "duration": 0.011177,
     "end_time": "2023-09-08T10:58:52.957004",
     "exception": false,
     "start_time": "2023-09-08T10:58:52.945827",
     "status": "completed"
    },
    "tags": []
   },
   "source": [
    "# **Data Cleaning**"
   ]
  },
  {
   "cell_type": "code",
   "execution_count": 7,
   "id": "0ab062ae",
   "metadata": {
    "execution": {
     "iopub.execute_input": "2023-09-08T10:58:52.980950Z",
     "iopub.status.busy": "2023-09-08T10:58:52.980464Z",
     "iopub.status.idle": "2023-09-08T10:58:53.023350Z",
     "shell.execute_reply": "2023-09-08T10:58:53.021964Z"
    },
    "papermill": {
     "duration": 0.05941,
     "end_time": "2023-09-08T10:58:53.026930",
     "exception": false,
     "start_time": "2023-09-08T10:58:52.967520",
     "status": "completed"
    },
    "tags": [],
    "ExecuteTime": {
     "end_time": "2023-12-10T16:00:11.891711700Z",
     "start_time": "2023-12-10T16:00:11.862706200Z"
    }
   },
   "outputs": [
    {
     "data": {
      "text/plain": "     Country name country code alpha-3  country-code     iso_3166-2   region  \\\n0     Afghanistan           AF     AFG             4  ISO 3166-2:AF     Asia   \n1   Åland Islands           AX     ALA           248  ISO 3166-2:AX   Europe   \n2         Albania           AL     ALB             8  ISO 3166-2:AL   Europe   \n3         Algeria           DZ     DZA            12  ISO 3166-2:DZ   Africa   \n4  American Samoa           AS     ASM            16  ISO 3166-2:AS  Oceania   \n\n        sub-region intermediate-region  region-code  sub-region-code  \\\n0    Southern Asia                 NaN        142.0             34.0   \n1  Northern Europe                 NaN        150.0            154.0   \n2  Southern Europe                 NaN        150.0             39.0   \n3  Northern Africa                 NaN          2.0             15.0   \n4        Polynesia                 NaN          9.0             61.0   \n\n   intermediate-region-code  \n0                       NaN  \n1                       NaN  \n2                       NaN  \n3                       NaN  \n4                       NaN  ",
      "text/html": "<div>\n<style scoped>\n    .dataframe tbody tr th:only-of-type {\n        vertical-align: middle;\n    }\n\n    .dataframe tbody tr th {\n        vertical-align: top;\n    }\n\n    .dataframe thead th {\n        text-align: right;\n    }\n</style>\n<table border=\"1\" class=\"dataframe\">\n  <thead>\n    <tr style=\"text-align: right;\">\n      <th></th>\n      <th>Country name</th>\n      <th>country code</th>\n      <th>alpha-3</th>\n      <th>country-code</th>\n      <th>iso_3166-2</th>\n      <th>region</th>\n      <th>sub-region</th>\n      <th>intermediate-region</th>\n      <th>region-code</th>\n      <th>sub-region-code</th>\n      <th>intermediate-region-code</th>\n    </tr>\n  </thead>\n  <tbody>\n    <tr>\n      <th>0</th>\n      <td>Afghanistan</td>\n      <td>AF</td>\n      <td>AFG</td>\n      <td>4</td>\n      <td>ISO 3166-2:AF</td>\n      <td>Asia</td>\n      <td>Southern Asia</td>\n      <td>NaN</td>\n      <td>142.0</td>\n      <td>34.0</td>\n      <td>NaN</td>\n    </tr>\n    <tr>\n      <th>1</th>\n      <td>Åland Islands</td>\n      <td>AX</td>\n      <td>ALA</td>\n      <td>248</td>\n      <td>ISO 3166-2:AX</td>\n      <td>Europe</td>\n      <td>Northern Europe</td>\n      <td>NaN</td>\n      <td>150.0</td>\n      <td>154.0</td>\n      <td>NaN</td>\n    </tr>\n    <tr>\n      <th>2</th>\n      <td>Albania</td>\n      <td>AL</td>\n      <td>ALB</td>\n      <td>8</td>\n      <td>ISO 3166-2:AL</td>\n      <td>Europe</td>\n      <td>Southern Europe</td>\n      <td>NaN</td>\n      <td>150.0</td>\n      <td>39.0</td>\n      <td>NaN</td>\n    </tr>\n    <tr>\n      <th>3</th>\n      <td>Algeria</td>\n      <td>DZ</td>\n      <td>DZA</td>\n      <td>12</td>\n      <td>ISO 3166-2:DZ</td>\n      <td>Africa</td>\n      <td>Northern Africa</td>\n      <td>NaN</td>\n      <td>2.0</td>\n      <td>15.0</td>\n      <td>NaN</td>\n    </tr>\n    <tr>\n      <th>4</th>\n      <td>American Samoa</td>\n      <td>AS</td>\n      <td>ASM</td>\n      <td>16</td>\n      <td>ISO 3166-2:AS</td>\n      <td>Oceania</td>\n      <td>Polynesia</td>\n      <td>NaN</td>\n      <td>9.0</td>\n      <td>61.0</td>\n      <td>NaN</td>\n    </tr>\n  </tbody>\n</table>\n</div>"
     },
     "execution_count": 7,
     "metadata": {},
     "output_type": "execute_result"
    }
   ],
   "source": [
    "# Now let's start joining data\n",
    "\n",
    "# Change column names to match the main dataset\n",
    "continent_file.rename(columns={'name': 'Country name', 'alpha-2': 'country code'}, inplace=True)\n",
    "continent_file.head()"
   ]
  },
  {
   "cell_type": "code",
   "execution_count": 8,
   "id": "3ac746bf",
   "metadata": {
    "execution": {
     "iopub.execute_input": "2023-09-08T10:58:53.051067Z",
     "iopub.status.busy": "2023-09-08T10:58:53.050579Z",
     "iopub.status.idle": "2023-09-08T10:58:53.107867Z",
     "shell.execute_reply": "2023-09-08T10:58:53.106003Z"
    },
    "papermill": {
     "duration": 0.073051,
     "end_time": "2023-09-08T10:58:53.111438",
     "exception": false,
     "start_time": "2023-09-08T10:58:53.038387",
     "status": "completed"
    },
    "tags": [],
    "ExecuteTime": {
     "end_time": "2023-12-10T16:00:13.310621800Z",
     "start_time": "2023-12-10T16:00:13.294616200Z"
    }
   },
   "outputs": [
    {
     "data": {
      "text/plain": "  Country name  region       sub-region country code  Ladder score  \\\n0      Finland  Europe  Northern Europe           FI         7.804   \n1      Denmark  Europe  Northern Europe           DK         7.586   \n2      Iceland  Europe  Northern Europe           IS         7.530   \n3       Israel    Asia     Western Asia           IL         7.473   \n4  Netherlands  Europe   Western Europe           NL         7.403   \n\n   Standard error of ladder score  upperwhisker  lowerwhisker  \\\n0                           0.036         7.875         7.733   \n1                           0.041         7.667         7.506   \n2                           0.049         7.625         7.434   \n3                           0.032         7.535         7.411   \n4                           0.029         7.460         7.346   \n\n   Logged GDP per capita  Social support  ...  Generosity  \\\n0                 10.792           0.969  ...      -0.019   \n1                 10.962           0.954  ...       0.134   \n2                 10.896           0.983  ...       0.211   \n3                 10.639           0.943  ...      -0.023   \n4                 10.942           0.930  ...       0.213   \n\n   Perceptions of corruption  Ladder score in Dystopia  \\\n0                      0.182                     1.778   \n1                      0.196                     1.778   \n2                      0.668                     1.778   \n3                      0.708                     1.778   \n4                      0.379                     1.778   \n\n   Explained by: Log GDP per capita  Explained by: Social support  \\\n0                             1.888                         1.585   \n1                             1.949                         1.548   \n2                             1.926                         1.620   \n3                             1.833                         1.521   \n4                             1.942                         1.488   \n\n   Explained by: Healthy life expectancy  \\\n0                                  0.535   \n1                                  0.537   \n2                                  0.559   \n3                                  0.577   \n4                                  0.545   \n\n   Explained by: Freedom to make life choices  Explained by: Generosity  \\\n0                                       0.772                     0.126   \n1                                       0.734                     0.208   \n2                                       0.738                     0.250   \n3                                       0.569                     0.124   \n4                                       0.672                     0.251   \n\n   Explained by: Perceptions of corruption  Dystopia + residual  \n0                                    0.535                2.363  \n1                                    0.525                2.084  \n2                                    0.187                2.250  \n3                                    0.158                2.691  \n4                                    0.394                2.110  \n\n[5 rows x 22 columns]",
      "text/html": "<div>\n<style scoped>\n    .dataframe tbody tr th:only-of-type {\n        vertical-align: middle;\n    }\n\n    .dataframe tbody tr th {\n        vertical-align: top;\n    }\n\n    .dataframe thead th {\n        text-align: right;\n    }\n</style>\n<table border=\"1\" class=\"dataframe\">\n  <thead>\n    <tr style=\"text-align: right;\">\n      <th></th>\n      <th>Country name</th>\n      <th>region</th>\n      <th>sub-region</th>\n      <th>country code</th>\n      <th>Ladder score</th>\n      <th>Standard error of ladder score</th>\n      <th>upperwhisker</th>\n      <th>lowerwhisker</th>\n      <th>Logged GDP per capita</th>\n      <th>Social support</th>\n      <th>...</th>\n      <th>Generosity</th>\n      <th>Perceptions of corruption</th>\n      <th>Ladder score in Dystopia</th>\n      <th>Explained by: Log GDP per capita</th>\n      <th>Explained by: Social support</th>\n      <th>Explained by: Healthy life expectancy</th>\n      <th>Explained by: Freedom to make life choices</th>\n      <th>Explained by: Generosity</th>\n      <th>Explained by: Perceptions of corruption</th>\n      <th>Dystopia + residual</th>\n    </tr>\n  </thead>\n  <tbody>\n    <tr>\n      <th>0</th>\n      <td>Finland</td>\n      <td>Europe</td>\n      <td>Northern Europe</td>\n      <td>FI</td>\n      <td>7.804</td>\n      <td>0.036</td>\n      <td>7.875</td>\n      <td>7.733</td>\n      <td>10.792</td>\n      <td>0.969</td>\n      <td>...</td>\n      <td>-0.019</td>\n      <td>0.182</td>\n      <td>1.778</td>\n      <td>1.888</td>\n      <td>1.585</td>\n      <td>0.535</td>\n      <td>0.772</td>\n      <td>0.126</td>\n      <td>0.535</td>\n      <td>2.363</td>\n    </tr>\n    <tr>\n      <th>1</th>\n      <td>Denmark</td>\n      <td>Europe</td>\n      <td>Northern Europe</td>\n      <td>DK</td>\n      <td>7.586</td>\n      <td>0.041</td>\n      <td>7.667</td>\n      <td>7.506</td>\n      <td>10.962</td>\n      <td>0.954</td>\n      <td>...</td>\n      <td>0.134</td>\n      <td>0.196</td>\n      <td>1.778</td>\n      <td>1.949</td>\n      <td>1.548</td>\n      <td>0.537</td>\n      <td>0.734</td>\n      <td>0.208</td>\n      <td>0.525</td>\n      <td>2.084</td>\n    </tr>\n    <tr>\n      <th>2</th>\n      <td>Iceland</td>\n      <td>Europe</td>\n      <td>Northern Europe</td>\n      <td>IS</td>\n      <td>7.530</td>\n      <td>0.049</td>\n      <td>7.625</td>\n      <td>7.434</td>\n      <td>10.896</td>\n      <td>0.983</td>\n      <td>...</td>\n      <td>0.211</td>\n      <td>0.668</td>\n      <td>1.778</td>\n      <td>1.926</td>\n      <td>1.620</td>\n      <td>0.559</td>\n      <td>0.738</td>\n      <td>0.250</td>\n      <td>0.187</td>\n      <td>2.250</td>\n    </tr>\n    <tr>\n      <th>3</th>\n      <td>Israel</td>\n      <td>Asia</td>\n      <td>Western Asia</td>\n      <td>IL</td>\n      <td>7.473</td>\n      <td>0.032</td>\n      <td>7.535</td>\n      <td>7.411</td>\n      <td>10.639</td>\n      <td>0.943</td>\n      <td>...</td>\n      <td>-0.023</td>\n      <td>0.708</td>\n      <td>1.778</td>\n      <td>1.833</td>\n      <td>1.521</td>\n      <td>0.577</td>\n      <td>0.569</td>\n      <td>0.124</td>\n      <td>0.158</td>\n      <td>2.691</td>\n    </tr>\n    <tr>\n      <th>4</th>\n      <td>Netherlands</td>\n      <td>Europe</td>\n      <td>Western Europe</td>\n      <td>NL</td>\n      <td>7.403</td>\n      <td>0.029</td>\n      <td>7.460</td>\n      <td>7.346</td>\n      <td>10.942</td>\n      <td>0.930</td>\n      <td>...</td>\n      <td>0.213</td>\n      <td>0.379</td>\n      <td>1.778</td>\n      <td>1.942</td>\n      <td>1.488</td>\n      <td>0.545</td>\n      <td>0.672</td>\n      <td>0.251</td>\n      <td>0.394</td>\n      <td>2.110</td>\n    </tr>\n  </tbody>\n</table>\n<p>5 rows × 22 columns</p>\n</div>"
     },
     "execution_count": 8,
     "metadata": {},
     "output_type": "execute_result"
    }
   ],
   "source": [
    "#Merge region and sub-region into whr23score after country name\n",
    "column_order = ['Country name', 'region', 'sub-region', 'country code']\n",
    "merged_data = whr23.merge(continent_file[['Country name', 'region', 'sub-region', 'country code']], on='Country name')\n",
    "#for easier reading, let's change the column order.\n",
    "column_order = ['Country name', 'region', 'sub-region', 'country code'] + [col for col in merged_data.columns if col not in column_order]\n",
    "merged_data = merged_data[column_order]\n",
    "merged_data.head()"
   ]
  },
  {
   "cell_type": "code",
   "execution_count": 9,
   "id": "dff9040f",
   "metadata": {
    "execution": {
     "iopub.execute_input": "2023-09-08T10:58:53.138205Z",
     "iopub.status.busy": "2023-09-08T10:58:53.137774Z",
     "iopub.status.idle": "2023-09-08T10:58:53.180208Z",
     "shell.execute_reply": "2023-09-08T10:58:53.179252Z"
    },
    "papermill": {
     "duration": 0.059123,
     "end_time": "2023-09-08T10:58:53.183077",
     "exception": false,
     "start_time": "2023-09-08T10:58:53.123954",
     "status": "completed"
    },
    "tags": [],
    "ExecuteTime": {
     "end_time": "2023-12-10T16:00:14.265310100Z",
     "start_time": "2023-12-10T16:00:14.242229400Z"
    }
   },
   "outputs": [
    {
     "data": {
      "text/plain": "  Country name  region       sub-region country code  Ladder score  \\\n0      Finland  Europe  Northern Europe           FI         7.804   \n1      Denmark  Europe  Northern Europe           DK         7.586   \n2      Iceland  Europe  Northern Europe           IS         7.530   \n3       Israel    Asia     Western Asia           IL         7.473   \n4  Netherlands  Europe   Western Europe           NL         7.403   \n\n   Standard error of ladder score  upperwhisker  lowerwhisker  \\\n0                           0.036         7.875         7.733   \n1                           0.041         7.667         7.506   \n2                           0.049         7.625         7.434   \n3                           0.032         7.535         7.411   \n4                           0.029         7.460         7.346   \n\n   Logged GDP per capita  Social support  ...  Explained by: Social support  \\\n0                 10.792           0.969  ...                         1.585   \n1                 10.962           0.954  ...                         1.548   \n2                 10.896           0.983  ...                         1.620   \n3                 10.639           0.943  ...                         1.521   \n4                 10.942           0.930  ...                         1.488   \n\n   Explained by: Healthy life expectancy  \\\n0                                  0.535   \n1                                  0.537   \n2                                  0.559   \n3                                  0.577   \n4                                  0.545   \n\n   Explained by: Freedom to make life choices  Explained by: Generosity  \\\n0                                       0.772                     0.126   \n1                                       0.734                     0.208   \n2                                       0.738                     0.250   \n3                                       0.569                     0.124   \n4                                       0.672                     0.251   \n\n   Explained by: Perceptions of corruption  Dystopia + residual  \\\n0                                    0.535                2.363   \n1                                    0.525                2.084   \n2                                    0.187                2.250   \n3                                    0.158                2.691   \n4                                    0.394                2.110   \n\n   Unemployment rate  Urban_population  Population  Official language  \n0              6.59%         4,716,888   5,520,314            Swedish  \n1              4.91%         5,119,978   5,818,553             Danish  \n2              2.84%           339,110     361,313          Icelandic  \n3              3.86%         8,374,393   9,053,300             Hebrew  \n4              3.20%        15,924,729  17,332,850              Dutch  \n\n[5 rows x 26 columns]",
      "text/html": "<div>\n<style scoped>\n    .dataframe tbody tr th:only-of-type {\n        vertical-align: middle;\n    }\n\n    .dataframe tbody tr th {\n        vertical-align: top;\n    }\n\n    .dataframe thead th {\n        text-align: right;\n    }\n</style>\n<table border=\"1\" class=\"dataframe\">\n  <thead>\n    <tr style=\"text-align: right;\">\n      <th></th>\n      <th>Country name</th>\n      <th>region</th>\n      <th>sub-region</th>\n      <th>country code</th>\n      <th>Ladder score</th>\n      <th>Standard error of ladder score</th>\n      <th>upperwhisker</th>\n      <th>lowerwhisker</th>\n      <th>Logged GDP per capita</th>\n      <th>Social support</th>\n      <th>...</th>\n      <th>Explained by: Social support</th>\n      <th>Explained by: Healthy life expectancy</th>\n      <th>Explained by: Freedom to make life choices</th>\n      <th>Explained by: Generosity</th>\n      <th>Explained by: Perceptions of corruption</th>\n      <th>Dystopia + residual</th>\n      <th>Unemployment rate</th>\n      <th>Urban_population</th>\n      <th>Population</th>\n      <th>Official language</th>\n    </tr>\n  </thead>\n  <tbody>\n    <tr>\n      <th>0</th>\n      <td>Finland</td>\n      <td>Europe</td>\n      <td>Northern Europe</td>\n      <td>FI</td>\n      <td>7.804</td>\n      <td>0.036</td>\n      <td>7.875</td>\n      <td>7.733</td>\n      <td>10.792</td>\n      <td>0.969</td>\n      <td>...</td>\n      <td>1.585</td>\n      <td>0.535</td>\n      <td>0.772</td>\n      <td>0.126</td>\n      <td>0.535</td>\n      <td>2.363</td>\n      <td>6.59%</td>\n      <td>4,716,888</td>\n      <td>5,520,314</td>\n      <td>Swedish</td>\n    </tr>\n    <tr>\n      <th>1</th>\n      <td>Denmark</td>\n      <td>Europe</td>\n      <td>Northern Europe</td>\n      <td>DK</td>\n      <td>7.586</td>\n      <td>0.041</td>\n      <td>7.667</td>\n      <td>7.506</td>\n      <td>10.962</td>\n      <td>0.954</td>\n      <td>...</td>\n      <td>1.548</td>\n      <td>0.537</td>\n      <td>0.734</td>\n      <td>0.208</td>\n      <td>0.525</td>\n      <td>2.084</td>\n      <td>4.91%</td>\n      <td>5,119,978</td>\n      <td>5,818,553</td>\n      <td>Danish</td>\n    </tr>\n    <tr>\n      <th>2</th>\n      <td>Iceland</td>\n      <td>Europe</td>\n      <td>Northern Europe</td>\n      <td>IS</td>\n      <td>7.530</td>\n      <td>0.049</td>\n      <td>7.625</td>\n      <td>7.434</td>\n      <td>10.896</td>\n      <td>0.983</td>\n      <td>...</td>\n      <td>1.620</td>\n      <td>0.559</td>\n      <td>0.738</td>\n      <td>0.250</td>\n      <td>0.187</td>\n      <td>2.250</td>\n      <td>2.84%</td>\n      <td>339,110</td>\n      <td>361,313</td>\n      <td>Icelandic</td>\n    </tr>\n    <tr>\n      <th>3</th>\n      <td>Israel</td>\n      <td>Asia</td>\n      <td>Western Asia</td>\n      <td>IL</td>\n      <td>7.473</td>\n      <td>0.032</td>\n      <td>7.535</td>\n      <td>7.411</td>\n      <td>10.639</td>\n      <td>0.943</td>\n      <td>...</td>\n      <td>1.521</td>\n      <td>0.577</td>\n      <td>0.569</td>\n      <td>0.124</td>\n      <td>0.158</td>\n      <td>2.691</td>\n      <td>3.86%</td>\n      <td>8,374,393</td>\n      <td>9,053,300</td>\n      <td>Hebrew</td>\n    </tr>\n    <tr>\n      <th>4</th>\n      <td>Netherlands</td>\n      <td>Europe</td>\n      <td>Western Europe</td>\n      <td>NL</td>\n      <td>7.403</td>\n      <td>0.029</td>\n      <td>7.460</td>\n      <td>7.346</td>\n      <td>10.942</td>\n      <td>0.930</td>\n      <td>...</td>\n      <td>1.488</td>\n      <td>0.545</td>\n      <td>0.672</td>\n      <td>0.251</td>\n      <td>0.394</td>\n      <td>2.110</td>\n      <td>3.20%</td>\n      <td>15,924,729</td>\n      <td>17,332,850</td>\n      <td>Dutch</td>\n    </tr>\n  </tbody>\n</table>\n<p>5 rows × 26 columns</p>\n</div>"
     },
     "execution_count": 9,
     "metadata": {},
     "output_type": "execute_result"
    }
   ],
   "source": [
    "# Rename the 'Country' column to 'Country name' in the extra_data DataFrame\n",
    "world_data.rename(columns={'Country': 'Country name'}, inplace=True)\n",
    "\n",
    "#Merge the data for your own new dataset\n",
    "full_data = merged_data.merge(world_data[['Country name', 'Unemployment rate', 'Urban_population', 'Population', 'Official language']], on='Country name')\n",
    "# Display the first few rows of the merged DataFrame\n",
    "full_data.head()"
   ]
  },
  {
   "cell_type": "code",
   "execution_count": 10,
   "id": "db9a5fed",
   "metadata": {
    "execution": {
     "iopub.execute_input": "2023-09-08T10:58:53.212312Z",
     "iopub.status.busy": "2023-09-08T10:58:53.211892Z",
     "iopub.status.idle": "2023-09-08T10:58:53.222461Z",
     "shell.execute_reply": "2023-09-08T10:58:53.221173Z"
    },
    "papermill": {
     "duration": 0.02779,
     "end_time": "2023-09-08T10:58:53.225119",
     "exception": false,
     "start_time": "2023-09-08T10:58:53.197329",
     "status": "completed"
    },
    "tags": [],
    "ExecuteTime": {
     "end_time": "2023-12-10T16:00:15.970421100Z",
     "start_time": "2023-12-10T16:00:15.952416400Z"
    }
   },
   "outputs": [
    {
     "data": {
      "text/plain": "Country name                                  0\nregion                                        0\nsub-region                                    0\ncountry code                                  1\nLadder score                                  0\nStandard error of ladder score                0\nupperwhisker                                  0\nlowerwhisker                                  0\nLogged GDP per capita                         0\nSocial support                                0\nHealthy life expectancy                       0\nFreedom to make life choices                  0\nGenerosity                                    0\nPerceptions of corruption                     0\nLadder score in Dystopia                      0\nExplained by: Log GDP per capita              0\nExplained by: Social support                  0\nExplained by: Healthy life expectancy         0\nExplained by: Freedom to make life choices    0\nExplained by: Generosity                      0\nExplained by: Perceptions of corruption       0\nDystopia + residual                           0\nUnemployment rate                             0\nUrban_population                              0\nPopulation                                    0\nOfficial language                             4\ndtype: int64"
     },
     "execution_count": 10,
     "metadata": {},
     "output_type": "execute_result"
    }
   ],
   "source": [
    "#Now i will check for null values\n",
    "full_data.isna().sum()"
   ]
  },
  {
   "cell_type": "code",
   "execution_count": 11,
   "id": "b5457861",
   "metadata": {
    "execution": {
     "iopub.execute_input": "2023-09-08T10:58:53.252349Z",
     "iopub.status.busy": "2023-09-08T10:58:53.251892Z",
     "iopub.status.idle": "2023-09-08T10:58:53.277456Z",
     "shell.execute_reply": "2023-09-08T10:58:53.276083Z"
    },
    "papermill": {
     "duration": 0.042737,
     "end_time": "2023-09-08T10:58:53.280375",
     "exception": false,
     "start_time": "2023-09-08T10:58:53.237638",
     "status": "completed"
    },
    "tags": [],
    "ExecuteTime": {
     "end_time": "2023-12-10T16:00:23.364541400Z",
     "start_time": "2023-12-10T16:00:23.355539200Z"
    }
   },
   "outputs": [
    {
     "data": {
      "text/plain": "Empty DataFrame\nColumns: [Country name, region, sub-region, country code, Ladder score, Standard error of ladder score, upperwhisker, lowerwhisker, Logged GDP per capita, Social support, Healthy life expectancy, Freedom to make life choices, Generosity, Perceptions of corruption, Ladder score in Dystopia, Explained by: Log GDP per capita, Explained by: Social support, Explained by: Healthy life expectancy, Explained by: Freedom to make life choices, Explained by: Generosity, Explained by: Perceptions of corruption, Dystopia + residual, Unemployment rate, Urban_population, Population, Official language]\nIndex: []\n\n[0 rows x 26 columns]",
      "text/html": "<div>\n<style scoped>\n    .dataframe tbody tr th:only-of-type {\n        vertical-align: middle;\n    }\n\n    .dataframe tbody tr th {\n        vertical-align: top;\n    }\n\n    .dataframe thead th {\n        text-align: right;\n    }\n</style>\n<table border=\"1\" class=\"dataframe\">\n  <thead>\n    <tr style=\"text-align: right;\">\n      <th></th>\n      <th>Country name</th>\n      <th>region</th>\n      <th>sub-region</th>\n      <th>country code</th>\n      <th>Ladder score</th>\n      <th>Standard error of ladder score</th>\n      <th>upperwhisker</th>\n      <th>lowerwhisker</th>\n      <th>Logged GDP per capita</th>\n      <th>Social support</th>\n      <th>...</th>\n      <th>Explained by: Social support</th>\n      <th>Explained by: Healthy life expectancy</th>\n      <th>Explained by: Freedom to make life choices</th>\n      <th>Explained by: Generosity</th>\n      <th>Explained by: Perceptions of corruption</th>\n      <th>Dystopia + residual</th>\n      <th>Unemployment rate</th>\n      <th>Urban_population</th>\n      <th>Population</th>\n      <th>Official language</th>\n    </tr>\n  </thead>\n  <tbody>\n  </tbody>\n</table>\n<p>0 rows × 26 columns</p>\n</div>"
     },
     "execution_count": 11,
     "metadata": {},
     "output_type": "execute_result"
    }
   ],
   "source": [
    "# Is there any duplicate?\n",
    "full_data[full_data.duplicated(keep=False)]"
   ]
  },
  {
   "cell_type": "code",
   "execution_count": 12,
   "id": "b76410b9",
   "metadata": {
    "execution": {
     "iopub.execute_input": "2023-09-08T10:58:53.307578Z",
     "iopub.status.busy": "2023-09-08T10:58:53.307127Z",
     "iopub.status.idle": "2023-09-08T10:58:53.315879Z",
     "shell.execute_reply": "2023-09-08T10:58:53.314637Z"
    },
    "papermill": {
     "duration": 0.026457,
     "end_time": "2023-09-08T10:58:53.319039",
     "exception": false,
     "start_time": "2023-09-08T10:58:53.292582",
     "status": "completed"
    },
    "tags": [],
    "ExecuteTime": {
     "end_time": "2023-12-10T16:00:24.800234600Z",
     "start_time": "2023-12-10T16:00:24.791230500Z"
    }
   },
   "outputs": [
    {
     "name": "stdout",
     "output_type": "stream",
     "text": [
      "0      False\n",
      "1      False\n",
      "2      False\n",
      "3      False\n",
      "4      False\n",
      "       ...  \n",
      "119    False\n",
      "120    False\n",
      "121    False\n",
      "122    False\n",
      "123    False\n",
      "Name: Country name, Length: 124, dtype: bool\n"
     ]
    }
   ],
   "source": [
    "print(full_data['Country name']== 'Congo')"
   ]
  },
  {
   "cell_type": "code",
   "execution_count": 13,
   "id": "922ae820",
   "metadata": {
    "execution": {
     "iopub.execute_input": "2023-09-08T10:58:53.348284Z",
     "iopub.status.busy": "2023-09-08T10:58:53.346869Z",
     "iopub.status.idle": "2023-09-08T10:58:53.377992Z",
     "shell.execute_reply": "2023-09-08T10:58:53.376623Z"
    },
    "papermill": {
     "duration": 0.049597,
     "end_time": "2023-09-08T10:58:53.382336",
     "exception": false,
     "start_time": "2023-09-08T10:58:53.332739",
     "status": "completed"
    },
    "tags": [],
    "ExecuteTime": {
     "end_time": "2023-12-10T16:00:26.225856200Z",
     "start_time": "2023-12-10T16:00:26.210346200Z"
    }
   },
   "outputs": [
    {
     "name": "stdout",
     "output_type": "stream",
     "text": [
      "      Country name    region                       sub-region country code  \\\n",
      "0          Finland    Europe                  Northern Europe           FI   \n",
      "1          Denmark    Europe                  Northern Europe           DK   \n",
      "2          Iceland    Europe                  Northern Europe           IS   \n",
      "3           Israel      Asia                     Western Asia           IL   \n",
      "4      Netherlands    Europe                   Western Europe           NL   \n",
      "5           Sweden    Europe                  Northern Europe           SE   \n",
      "6           Norway    Europe                  Northern Europe           NO   \n",
      "7      Switzerland    Europe                   Western Europe           CH   \n",
      "8       Luxembourg    Europe                   Western Europe           LU   \n",
      "9      New Zealand   Oceania        Australia and New Zealand           NZ   \n",
      "10         Austria    Europe                   Western Europe           AT   \n",
      "11       Australia   Oceania        Australia and New Zealand           AU   \n",
      "12          Canada  Americas                 Northern America           CA   \n",
      "13   United States  Americas                 Northern America           US   \n",
      "14         Germany    Europe                   Western Europe           DE   \n",
      "15         Belgium    Europe                   Western Europe           BE   \n",
      "16  United Kingdom    Europe                  Northern Europe           GB   \n",
      "17       Lithuania    Europe                  Northern Europe           LT   \n",
      "18          France    Europe                   Western Europe           FR   \n",
      "19        Slovenia    Europe                  Southern Europe           SI   \n",
      "20      Costa Rica  Americas  Latin America and the Caribbean           CR   \n",
      "\n",
      "    Ladder score  Standard error of ladder score  upperwhisker  lowerwhisker  \\\n",
      "0          7.804                           0.036         7.875         7.733   \n",
      "1          7.586                           0.041         7.667         7.506   \n",
      "2          7.530                           0.049         7.625         7.434   \n",
      "3          7.473                           0.032         7.535         7.411   \n",
      "4          7.403                           0.029         7.460         7.346   \n",
      "5          7.395                           0.037         7.468         7.322   \n",
      "6          7.315                           0.044         7.402         7.229   \n",
      "7          7.240                           0.043         7.324         7.156   \n",
      "8          7.228                           0.069         7.363         7.093   \n",
      "9          7.123                           0.038         7.198         7.048   \n",
      "10         7.097                           0.040         7.176         7.018   \n",
      "11         7.095                           0.044         7.180         7.009   \n",
      "12         6.961                           0.042         7.042         6.879   \n",
      "13         6.894                           0.047         6.986         6.802   \n",
      "14         6.892                           0.049         6.989         6.795   \n",
      "15         6.859                           0.034         6.926         6.793   \n",
      "16         6.796                           0.042         6.877         6.714   \n",
      "17         6.763                           0.044         6.849         6.677   \n",
      "18         6.661                           0.038         6.735         6.588   \n",
      "19         6.650                           0.051         6.750         6.550   \n",
      "20         6.609                           0.052         6.710         6.507   \n",
      "\n",
      "    Logged GDP per capita  Social support  ...  Explained by: Social support  \\\n",
      "0                  10.792           0.969  ...                         1.585   \n",
      "1                  10.962           0.954  ...                         1.548   \n",
      "2                  10.896           0.983  ...                         1.620   \n",
      "3                  10.639           0.943  ...                         1.521   \n",
      "4                  10.942           0.930  ...                         1.488   \n",
      "5                  10.883           0.939  ...                         1.510   \n",
      "6                  11.088           0.943  ...                         1.521   \n",
      "7                  11.164           0.920  ...                         1.463   \n",
      "8                  11.660           0.879  ...                         1.357   \n",
      "9                  10.662           0.952  ...                         1.544   \n",
      "10                 10.899           0.888  ...                         1.382   \n",
      "11                 10.821           0.934  ...                         1.497   \n",
      "12                 10.773           0.929  ...                         1.484   \n",
      "13                 11.048           0.919  ...                         1.460   \n",
      "14                 10.879           0.896  ...                         1.401   \n",
      "15                 10.844           0.915  ...                         1.449   \n",
      "16                 10.704           0.882  ...                         1.366   \n",
      "17                 10.568           0.939  ...                         1.511   \n",
      "18                 10.701           0.909  ...                         1.433   \n",
      "19                 10.588           0.951  ...                         1.539   \n",
      "20                  9.952           0.872  ...                         1.340   \n",
      "\n",
      "    Explained by: Healthy life expectancy  \\\n",
      "0                                   0.535   \n",
      "1                                   0.537   \n",
      "2                                   0.559   \n",
      "3                                   0.577   \n",
      "4                                   0.545   \n",
      "5                                   0.562   \n",
      "6                                   0.544   \n",
      "7                                   0.582   \n",
      "8                                   0.549   \n",
      "9                                   0.513   \n",
      "10                                  0.535   \n",
      "11                                  0.532   \n",
      "12                                  0.541   \n",
      "13                                  0.390   \n",
      "14                                  0.539   \n",
      "15                                  0.528   \n",
      "16                                  0.511   \n",
      "17                                  0.432   \n",
      "18                                  0.566   \n",
      "19                                  0.532   \n",
      "20                                  0.503   \n",
      "\n",
      "    Explained by: Freedom to make life choices  Explained by: Generosity  \\\n",
      "0                                        0.772                     0.126   \n",
      "1                                        0.734                     0.208   \n",
      "2                                        0.738                     0.250   \n",
      "3                                        0.569                     0.124   \n",
      "4                                        0.672                     0.251   \n",
      "5                                        0.754                     0.225   \n",
      "6                                        0.752                     0.212   \n",
      "7                                        0.678                     0.151   \n",
      "8                                        0.710                     0.149   \n",
      "9                                        0.672                     0.230   \n",
      "10                                       0.630                     0.191   \n",
      "11                                       0.677                     0.242   \n",
      "12                                       0.656                     0.218   \n",
      "13                                       0.557                     0.210   \n",
      "14                                       0.618                     0.153   \n",
      "15                                       0.590                     0.137   \n",
      "16                                       0.626                     0.272   \n",
      "17                                       0.487                     0.059   \n",
      "18                                       0.582                     0.083   \n",
      "19                                       0.707                     0.144   \n",
      "20                                       0.683                     0.099   \n",
      "\n",
      "    Explained by: Perceptions of corruption  Dystopia + residual  \\\n",
      "0                                     0.535                2.363   \n",
      "1                                     0.525                2.084   \n",
      "2                                     0.187                2.250   \n",
      "3                                     0.158                2.691   \n",
      "4                                     0.394                2.110   \n",
      "5                                     0.520                1.903   \n",
      "6                                     0.463                1.829   \n",
      "7                                     0.475                1.870   \n",
      "8                                     0.418                1.845   \n",
      "9                                     0.471                1.852   \n",
      "10                                    0.310                2.124   \n",
      "11                                    0.310                1.938   \n",
      "12                                    0.364                1.815   \n",
      "13                                    0.172                2.124   \n",
      "14                                    0.365                1.898   \n",
      "15                                    0.273                1.976   \n",
      "16                                    0.340                1.822   \n",
      "17                                    0.089                2.377   \n",
      "18                                    0.270                1.872   \n",
      "19                                    0.113                1.799   \n",
      "20                                    0.116                2.281   \n",
      "\n",
      "    Unemployment rate  Urban_population   Population  Official language  \n",
      "0               6.59%         4,716,888    5,520,314            Swedish  \n",
      "1               4.91%         5,119,978    5,818,553             Danish  \n",
      "2               2.84%           339,110      361,313          Icelandic  \n",
      "3               3.86%         8,374,393    9,053,300             Hebrew  \n",
      "4               3.20%        15,924,729   17,332,850              Dutch  \n",
      "5               6.48%         9,021,165   10,285,453            Swedish  \n",
      "6               3.35%         4,418,218    5,347,896          Norwegian  \n",
      "7               4.58%         6,332,428    8,574,832             German  \n",
      "8               5.36%           565,488      645,397      Luxembourgish  \n",
      "9               4.07%         4,258,860    4,841,000            English  \n",
      "10              4.67%         5,194,416    8,877,067             German  \n",
      "11              5.27%        21,844,756   25,766,605                NaN  \n",
      "12              5.56%        30,628,482   36,991,981             French  \n",
      "13             14.70%       270,663,028  328,239,523                NaN  \n",
      "14              3.04%        64,324,835   83,132,799             German  \n",
      "15              5.59%        11,259,082   11,484,055             French  \n",
      "16              3.85%        55,908,316   66,834,405            English  \n",
      "17              6.35%         1,891,013    2,786,844         Lithuanian  \n",
      "18              8.43%        54,123,364   67,059,887             French  \n",
      "19              4.20%         1,144,654    2,087,946   Slovene language  \n",
      "20             11.85%         4,041,885    5,047,561            Spanish  \n",
      "\n",
      "[21 rows x 26 columns]\n"
     ]
    }
   ],
   "source": [
    "# Filter countries with a ladder score above 6.5\n",
    "happiest_countries = full_data[full_data['Ladder score'] > 6.6]\n",
    "print(happiest_countries)"
   ]
  },
  {
   "cell_type": "code",
   "execution_count": 14,
   "id": "7b883443",
   "metadata": {
    "execution": {
     "iopub.execute_input": "2023-09-08T10:58:53.413920Z",
     "iopub.status.busy": "2023-09-08T10:58:53.413025Z",
     "iopub.status.idle": "2023-09-08T10:58:53.456343Z",
     "shell.execute_reply": "2023-09-08T10:58:53.454371Z"
    },
    "papermill": {
     "duration": 0.062467,
     "end_time": "2023-09-08T10:58:53.460247",
     "exception": false,
     "start_time": "2023-09-08T10:58:53.397780",
     "status": "completed"
    },
    "tags": [],
    "ExecuteTime": {
     "end_time": "2023-12-10T16:00:28.924524400Z",
     "start_time": "2023-12-10T16:00:28.888010100Z"
    }
   },
   "outputs": [
    {
     "data": {
      "text/plain": "  Country name  region       sub-region country code  Ladder score  \\\n0      Finland  Europe  Northern Europe           FI         7.804   \n1      Denmark  Europe  Northern Europe           DK         7.586   \n2      Iceland  Europe  Northern Europe           IS         7.530   \n3       Israel    Asia     Western Asia           IL         7.473   \n4  Netherlands  Europe   Western Europe           NL         7.403   \n\n   Standard error of ladder score  upperwhisker  lowerwhisker  \\\n0                           0.036         7.875         7.733   \n1                           0.041         7.667         7.506   \n2                           0.049         7.625         7.434   \n3                           0.032         7.535         7.411   \n4                           0.029         7.460         7.346   \n\n   Logged GDP per capita  Social support  ...  \\\n0                 10.792           0.969  ...   \n1                 10.962           0.954  ...   \n2                 10.896           0.983  ...   \n3                 10.639           0.943  ...   \n4                 10.942           0.930  ...   \n\n   Explained by: Healthy life expectancy  \\\n0                                  0.535   \n1                                  0.537   \n2                                  0.559   \n3                                  0.577   \n4                                  0.545   \n\n   Explained by: Freedom to make life choices  Explained by: Generosity  \\\n0                                       0.772                     0.126   \n1                                       0.734                     0.208   \n2                                       0.738                     0.250   \n3                                       0.569                     0.124   \n4                                       0.672                     0.251   \n\n   Explained by: Perceptions of corruption  Dystopia + residual  \\\n0                                    0.535                2.363   \n1                                    0.525                2.084   \n2                                    0.187                2.250   \n3                                    0.158                2.691   \n4                                    0.394                2.110   \n\n   Unemployment rate  Urban_population  Population  Official language  \\\n0              6.59%         4716888.0   5520314.0            Swedish   \n1              4.91%         5119978.0   5818553.0             Danish   \n2              2.84%          339110.0    361313.0          Icelandic   \n3              3.86%         8374393.0   9053300.0             Hebrew   \n4              3.20%        15924729.0  17332850.0              Dutch   \n\n   Urban_population_percentage  \n0                    85.446009  \n1                    87.994008  \n2                    93.854912  \n3                    92.501000  \n4                    91.875998  \n\n[5 rows x 27 columns]",
      "text/html": "<div>\n<style scoped>\n    .dataframe tbody tr th:only-of-type {\n        vertical-align: middle;\n    }\n\n    .dataframe tbody tr th {\n        vertical-align: top;\n    }\n\n    .dataframe thead th {\n        text-align: right;\n    }\n</style>\n<table border=\"1\" class=\"dataframe\">\n  <thead>\n    <tr style=\"text-align: right;\">\n      <th></th>\n      <th>Country name</th>\n      <th>region</th>\n      <th>sub-region</th>\n      <th>country code</th>\n      <th>Ladder score</th>\n      <th>Standard error of ladder score</th>\n      <th>upperwhisker</th>\n      <th>lowerwhisker</th>\n      <th>Logged GDP per capita</th>\n      <th>Social support</th>\n      <th>...</th>\n      <th>Explained by: Healthy life expectancy</th>\n      <th>Explained by: Freedom to make life choices</th>\n      <th>Explained by: Generosity</th>\n      <th>Explained by: Perceptions of corruption</th>\n      <th>Dystopia + residual</th>\n      <th>Unemployment rate</th>\n      <th>Urban_population</th>\n      <th>Population</th>\n      <th>Official language</th>\n      <th>Urban_population_percentage</th>\n    </tr>\n  </thead>\n  <tbody>\n    <tr>\n      <th>0</th>\n      <td>Finland</td>\n      <td>Europe</td>\n      <td>Northern Europe</td>\n      <td>FI</td>\n      <td>7.804</td>\n      <td>0.036</td>\n      <td>7.875</td>\n      <td>7.733</td>\n      <td>10.792</td>\n      <td>0.969</td>\n      <td>...</td>\n      <td>0.535</td>\n      <td>0.772</td>\n      <td>0.126</td>\n      <td>0.535</td>\n      <td>2.363</td>\n      <td>6.59%</td>\n      <td>4716888.0</td>\n      <td>5520314.0</td>\n      <td>Swedish</td>\n      <td>85.446009</td>\n    </tr>\n    <tr>\n      <th>1</th>\n      <td>Denmark</td>\n      <td>Europe</td>\n      <td>Northern Europe</td>\n      <td>DK</td>\n      <td>7.586</td>\n      <td>0.041</td>\n      <td>7.667</td>\n      <td>7.506</td>\n      <td>10.962</td>\n      <td>0.954</td>\n      <td>...</td>\n      <td>0.537</td>\n      <td>0.734</td>\n      <td>0.208</td>\n      <td>0.525</td>\n      <td>2.084</td>\n      <td>4.91%</td>\n      <td>5119978.0</td>\n      <td>5818553.0</td>\n      <td>Danish</td>\n      <td>87.994008</td>\n    </tr>\n    <tr>\n      <th>2</th>\n      <td>Iceland</td>\n      <td>Europe</td>\n      <td>Northern Europe</td>\n      <td>IS</td>\n      <td>7.530</td>\n      <td>0.049</td>\n      <td>7.625</td>\n      <td>7.434</td>\n      <td>10.896</td>\n      <td>0.983</td>\n      <td>...</td>\n      <td>0.559</td>\n      <td>0.738</td>\n      <td>0.250</td>\n      <td>0.187</td>\n      <td>2.250</td>\n      <td>2.84%</td>\n      <td>339110.0</td>\n      <td>361313.0</td>\n      <td>Icelandic</td>\n      <td>93.854912</td>\n    </tr>\n    <tr>\n      <th>3</th>\n      <td>Israel</td>\n      <td>Asia</td>\n      <td>Western Asia</td>\n      <td>IL</td>\n      <td>7.473</td>\n      <td>0.032</td>\n      <td>7.535</td>\n      <td>7.411</td>\n      <td>10.639</td>\n      <td>0.943</td>\n      <td>...</td>\n      <td>0.577</td>\n      <td>0.569</td>\n      <td>0.124</td>\n      <td>0.158</td>\n      <td>2.691</td>\n      <td>3.86%</td>\n      <td>8374393.0</td>\n      <td>9053300.0</td>\n      <td>Hebrew</td>\n      <td>92.501000</td>\n    </tr>\n    <tr>\n      <th>4</th>\n      <td>Netherlands</td>\n      <td>Europe</td>\n      <td>Western Europe</td>\n      <td>NL</td>\n      <td>7.403</td>\n      <td>0.029</td>\n      <td>7.460</td>\n      <td>7.346</td>\n      <td>10.942</td>\n      <td>0.930</td>\n      <td>...</td>\n      <td>0.545</td>\n      <td>0.672</td>\n      <td>0.251</td>\n      <td>0.394</td>\n      <td>2.110</td>\n      <td>3.20%</td>\n      <td>15924729.0</td>\n      <td>17332850.0</td>\n      <td>Dutch</td>\n      <td>91.875998</td>\n    </tr>\n  </tbody>\n</table>\n<p>5 rows × 27 columns</p>\n</div>"
     },
     "execution_count": 14,
     "metadata": {},
     "output_type": "execute_result"
    }
   ],
   "source": [
    "#g Now let's add our own math an calculate the percentage living in an urban area\n",
    "full_data['Urban_population'] = full_data['Urban_population'].str.replace(',', '').astype(float)\n",
    "full_data['Population'] = full_data['Population'].str.replace(',', '').astype(float)\n",
    "full_data['Urban_population_percentage'] = (full_data['Urban_population'] / full_data['Population']) * 100\n",
    "full_data.head()"
   ]
  },
  {
   "cell_type": "code",
   "execution_count": 27,
   "outputs": [
    {
     "data": {
      "text/plain": "Index(['Country name', 'region', 'sub-region', 'country code', 'Ladder score',\n       'Standard error of ladder score', 'upperwhisker', 'lowerwhisker',\n       'Logged GDP per capita', 'Social support', 'Healthy life expectancy',\n       'Freedom to make life choices', 'Generosity',\n       'Perceptions of corruption', 'Ladder score in Dystopia',\n       'Explained by: Log GDP per capita', 'Explained by: Social support',\n       'Explained by: Healthy life expectancy',\n       'Explained by: Freedom to make life choices',\n       'Explained by: Generosity', 'Explained by: Perceptions of corruption',\n       'Dystopia + residual', 'Unemployment rate', 'Urban_population',\n       'Population', 'Official language', 'Urban_population_percentage'],\n      dtype='object')"
     },
     "execution_count": 27,
     "metadata": {},
     "output_type": "execute_result"
    }
   ],
   "source": [
    "full_data.columns"
   ],
   "metadata": {
    "collapsed": false,
    "ExecuteTime": {
     "end_time": "2023-12-10T16:31:56.829661400Z",
     "start_time": "2023-12-10T16:31:56.793653300Z"
    }
   }
  },
  {
   "cell_type": "markdown",
   "id": "9ffcd915",
   "metadata": {
    "papermill": {
     "duration": 0.014307,
     "end_time": "2023-09-08T10:58:53.488101",
     "exception": false,
     "start_time": "2023-09-08T10:58:53.473794",
     "status": "completed"
    },
    "tags": []
   },
   "source": [
    "# **Data Visualisation**"
   ]
  },
  {
   "cell_type": "code",
   "execution_count": 15,
   "id": "30470650",
   "metadata": {
    "execution": {
     "iopub.execute_input": "2023-09-08T10:58:53.520246Z",
     "iopub.status.busy": "2023-09-08T10:58:53.519700Z",
     "iopub.status.idle": "2023-09-08T10:58:53.539682Z",
     "shell.execute_reply": "2023-09-08T10:58:53.538321Z"
    },
    "papermill": {
     "duration": 0.039516,
     "end_time": "2023-09-08T10:58:53.542483",
     "exception": false,
     "start_time": "2023-09-08T10:58:53.502967",
     "status": "completed"
    },
    "tags": [],
    "ExecuteTime": {
     "end_time": "2023-12-10T16:00:29.920819200Z",
     "start_time": "2023-12-10T16:00:29.903310400Z"
    }
   },
   "outputs": [
    {
     "name": "stdout",
     "output_type": "stream",
     "text": [
      "0.8470697892786817 0.7665886508235213 0.6347065002576935 0.7885295077639135 -0.48501135765326003 0.6537208623572299\n"
     ]
    }
   ],
   "source": [
    "#calculate correlation coefficients\n",
    "\n",
    "social_support_corr= full_data['Ladder score'].corr(full_data['Social support'])\n",
    "healthy_life_corr= full_data['Ladder score'].corr(full_data['Healthy life expectancy'])\n",
    "urban_pop_corr= full_data['Ladder score'].corr(full_data['Urban_population_percentage'])\n",
    "gdp_corr= full_data['Ladder score'].corr(full_data['Logged GDP per capita'])\n",
    "corruption_corr= full_data['Ladder score'].corr(full_data['Perceptions of corruption'])\n",
    "freedom_corr= full_data['Ladder score'].corr(full_data['Freedom to make life choices'])\n",
    "\n",
    "print(social_support_corr, \n",
    "healthy_life_corr,\n",
    "urban_pop_corr,\n",
    "gdp_corr,\n",
    "corruption_corr,\n",
    "freedom_corr )"
   ]
  },
  {
   "cell_type": "code",
   "execution_count": 16,
   "id": "82b37d85",
   "metadata": {
    "execution": {
     "iopub.execute_input": "2023-09-08T10:58:53.579355Z",
     "iopub.status.busy": "2023-09-08T10:58:53.577775Z",
     "iopub.status.idle": "2023-09-08T10:58:55.790241Z",
     "shell.execute_reply": "2023-09-08T10:58:55.789174Z"
    },
    "papermill": {
     "duration": 2.23355,
     "end_time": "2023-09-08T10:58:55.792973",
     "exception": false,
     "start_time": "2023-09-08T10:58:53.559423",
     "status": "completed"
    },
    "tags": [],
    "ExecuteTime": {
     "end_time": "2023-12-10T16:00:32.491714400Z",
     "start_time": "2023-12-10T16:00:31.447757700Z"
    }
   },
   "outputs": [
    {
     "data": {
      "text/plain": "<Figure size 1500x1000 with 6 Axes>",
      "image/png": "[encoded data removed]"
     },
     "metadata": {},
     "output_type": "display_data"
    }
   ],
   "source": [
    "# List of columns to analyse\n",
    "columns_to_analyse = [\n",
    "    'Social support',\n",
    "    'Healthy life expectancy',\n",
    "    'Urban_population_percentage',\n",
    "    'Logged GDP per capita',\n",
    "    'Perceptions of corruption',\n",
    "    'Freedom to make life choices']\n",
    "\n",
    "#scatterplot the correlation\n",
    "num_cols = 3\n",
    "num_rows = 2\n",
    "\n",
    "# Create a grid of scatter plots\n",
    "fig, axes = plt.subplots(num_rows, num_cols, figsize=(15, 10))\n",
    "\n",
    "# Flatten the axes array to iterate over subplots\n",
    "axes = axes.flatten()\n",
    "\n",
    "# Iterate over the columns and create scatter plots\n",
    "for i, column in enumerate(columns_to_analyse):\n",
    "    sns.scatterplot(data=full_data, x=column, y='Ladder score', alpha=0.7, ax=axes[i])\n",
    "    axes[i].set_title(f'{column} vs. Ladder Score')\n",
    "    axes[i].set_xlabel(column)\n",
    "    axes[i].set_ylabel('Ladder Score')\n",
    "    axes[i].grid(True)\n",
    "\n",
    "# Adjust spacing and layout\n",
    "plt.tight_layout()\n",
    "\n",
    "# Show the plot\n",
    "plt.show()"
   ]
  },
  {
   "cell_type": "code",
   "execution_count": 17,
   "id": "815182d9",
   "metadata": {
    "execution": {
     "iopub.execute_input": "2023-09-08T10:58:55.831469Z",
     "iopub.status.busy": "2023-09-08T10:58:55.830316Z",
     "iopub.status.idle": "2023-09-08T10:58:55.843359Z",
     "shell.execute_reply": "2023-09-08T10:58:55.842311Z"
    },
    "papermill": {
     "duration": 0.035807,
     "end_time": "2023-09-08T10:58:55.846354",
     "exception": false,
     "start_time": "2023-09-08T10:58:55.810547",
     "status": "completed"
    },
    "tags": [],
    "ExecuteTime": {
     "end_time": "2023-12-10T16:00:33.253726500Z",
     "start_time": "2023-12-10T16:00:33.236722700Z"
    }
   },
   "outputs": [
    {
     "name": "stdout",
     "output_type": "stream",
     "text": [
      "-0.025197993215033517 0.8260482734775204 0.7170583177962865 0.07210411507985726\n"
     ]
    }
   ],
   "source": [
    "#Now let's compare the factors against the gdp\n",
    "\n",
    "# Remove the % sign from'Unemployment rate'\n",
    "full_data['Unemployment rate'] = full_data['Unemployment rate'].str.replace('%', '')\n",
    "full_data['Unemployment rate'] = full_data['Unemployment rate'].astype(float)\n",
    "\n",
    "#make a list of the variables correlations\n",
    "pop_corr= full_data['Logged GDP per capita'].corr(full_data['Population'])\n",
    "healthy_life_corr= full_data['Logged GDP per capita'].corr(full_data['Healthy life expectancy'])\n",
    "urban_pop_corr= full_data['Logged GDP per capita'].corr(full_data['Urban_population_percentage'])\n",
    "unemployment_corr= full_data['Logged GDP per capita'].corr(full_data['Unemployment rate'])\n",
    "\n",
    "# Display the correlation matrix\n",
    "print(pop_corr,  healthy_life_corr, urban_pop_corr, unemployment_corr)"
   ]
  },
  {
   "cell_type": "code",
   "execution_count": 18,
   "id": "c7f21175",
   "metadata": {
    "execution": {
     "iopub.execute_input": "2023-09-08T10:58:55.883780Z",
     "iopub.status.busy": "2023-09-08T10:58:55.882862Z",
     "iopub.status.idle": "2023-09-08T10:58:56.210737Z",
     "shell.execute_reply": "2023-09-08T10:58:56.209368Z"
    },
    "papermill": {
     "duration": 0.349462,
     "end_time": "2023-09-08T10:58:56.213502",
     "exception": false,
     "start_time": "2023-09-08T10:58:55.864040",
     "status": "completed"
    },
    "tags": [],
    "ExecuteTime": {
     "end_time": "2023-12-10T16:00:34.243215900Z",
     "start_time": "2023-12-10T16:00:34.079167800Z"
    }
   },
   "outputs": [
    {
     "data": {
      "text/plain": "<Figure size 640x480 with 1 Axes>",
      "image/png": "[encoded data removed]"
     },
     "metadata": {},
     "output_type": "display_data"
    }
   ],
   "source": [
    "#plot the factors\n",
    "plt.scatter(\n",
    "    full_data['Logged GDP per capita'],\n",
    "    full_data['Urban_population_percentage'],\n",
    "    label='Urban Population Percentage',\n",
    "    alpha=0.7,\n",
    "    color='orange')\n",
    "\n",
    "# Adding labels and title\n",
    "plt.xlabel('GDP per capita')\n",
    "plt.ylabel('Urban Population Percentage')\n",
    "plt.title('GDP vs. Urban Population Percentage')\n",
    "\n",
    "plt.show()"
   ]
  },
  {
   "cell_type": "code",
   "execution_count": 19,
   "id": "3f459d26",
   "metadata": {
    "execution": {
     "iopub.execute_input": "2023-09-08T10:58:56.251172Z",
     "iopub.status.busy": "2023-09-08T10:58:56.249807Z",
     "iopub.status.idle": "2023-09-08T10:58:56.573102Z",
     "shell.execute_reply": "2023-09-08T10:58:56.571824Z"
    },
    "papermill": {
     "duration": 0.345784,
     "end_time": "2023-09-08T10:58:56.576256",
     "exception": false,
     "start_time": "2023-09-08T10:58:56.230472",
     "status": "completed"
    },
    "tags": [],
    "ExecuteTime": {
     "end_time": "2023-12-10T16:00:36.045573300Z",
     "start_time": "2023-12-10T16:00:35.911533500Z"
    }
   },
   "outputs": [
    {
     "data": {
      "text/plain": "<Figure size 640x480 with 1 Axes>",
      "image/png": "[encoded data removed]"
     },
     "metadata": {},
     "output_type": "display_data"
    }
   ],
   "source": [
    "plt.scatter(\n",
    "    full_data['Logged GDP per capita'],\n",
    "    full_data['Urban_population_percentage'],\n",
    "    label='Urban Population Percentage',\n",
    "    alpha=0.7,\n",
    "    color='orange')\n",
    "\n",
    "# Adding labels and title\n",
    "plt.xlabel('GDP per capita')\n",
    "plt.ylabel('Urban Population Percentage')\n",
    "plt.title('GDP vs. Urban Population Percentage')\n",
    "\n",
    "plt.show()"
   ]
  },
  {
   "cell_type": "code",
   "execution_count": 22,
   "id": "dfdfde4d",
   "metadata": {
    "execution": {
     "iopub.execute_input": "2023-09-08T10:58:56.614040Z",
     "iopub.status.busy": "2023-09-08T10:58:56.612758Z",
     "iopub.status.idle": "2023-09-08T10:58:58.973815Z",
     "shell.execute_reply": "2023-09-08T10:58:58.972390Z"
    },
    "papermill": {
     "duration": 2.383172,
     "end_time": "2023-09-08T10:58:58.976454",
     "exception": false,
     "start_time": "2023-09-08T10:58:56.593282",
     "status": "completed"
    },
    "tags": [],
    "ExecuteTime": {
     "end_time": "2023-12-10T16:00:59.614726800Z",
     "start_time": "2023-12-10T16:00:59.554712700Z"
    }
   },
   "outputs": [
    {
     "data": {
      "application/vnd.plotly.v1+json": {
       "data": [
        {
         "coloraxis": "coloraxis",
         "geo": "geo",
         "hovertemplate": "<b>%{hovertext}</b><br><br>Country name=%{location}<br>Ladder score=%{z}<extra></extra>",
         "hovertext": [
          "Finland",
          "Denmark",
          "Iceland",
          "Israel",
          "Netherlands",
          "Sweden",
          "Norway",
          "Switzerland",
          "Luxembourg",
          "New Zealand",
          "Austria",
          "Australia",
          "Canada",
          "United States",
          "Germany",
          "Belgium",
          "United Kingdom",
          "Lithuania",
          "France",
          "Slovenia",
          "Costa Rica",
          "Romania",
          "Singapore",
          "United Arab Emirates",
          "Uruguay",
          "Slovakia",
          "Saudi Arabia",
          "Estonia",
          "Spain",
          "Italy",
          "Chile",
          "Mexico",
          "Malta",
          "Panama",
          "Poland",
          "Nicaragua",
          "Latvia",
          "Bahrain",
          "Guatemala",
          "Kazakhstan",
          "Serbia",
          "Cyprus",
          "Japan",
          "Croatia",
          "Brazil",
          "El Salvador",
          "Hungary",
          "Argentina",
          "Honduras",
          "Uzbekistan",
          "Malaysia",
          "Portugal",
          "South Korea",
          "Greece",
          "Mauritius",
          "Thailand",
          "Mongolia",
          "Kyrgyzstan",
          "Moldova",
          "China",
          "Vietnam",
          "Paraguay",
          "Montenegro",
          "Jamaica",
          "Bolivia",
          "Russia",
          "Colombia",
          "Dominican Republic",
          "Ecuador",
          "Peru",
          "Philippines",
          "Bulgaria",
          "Nepal",
          "Armenia",
          "Tajikistan",
          "Algeria",
          "Albania",
          "Indonesia",
          "South Africa",
          "Venezuela",
          "Laos",
          "Georgia",
          "Guinea",
          "Ukraine",
          "Gabon",
          "Nigeria",
          "Cameroon",
          "Mozambique",
          "Iraq",
          "Morocco",
          "Iran",
          "Senegal",
          "Mauritania",
          "Burkina Faso",
          "Namibia",
          "Ghana",
          "Pakistan",
          "Niger",
          "Tunisia",
          "Kenya",
          "Sri Lanka",
          "Uganda",
          "Chad",
          "Cambodia",
          "Benin",
          "Myanmar",
          "Bangladesh",
          "Mali",
          "Egypt",
          "Togo",
          "Jordan",
          "Ethiopia",
          "Liberia",
          "India",
          "Madagascar",
          "Zambia",
          "Tanzania",
          "Comoros",
          "Malawi",
          "Botswana",
          "Zimbabwe",
          "Sierra Leone",
          "Lebanon",
          "Afghanistan"
         ],
         "locationmode": "country names",
         "locations": [
          "Finland",
          "Denmark",
          "Iceland",
          "Israel",
          "Netherlands",
          "Sweden",
          "Norway",
          "Switzerland",
          "Luxembourg",
          "New Zealand",
          "Austria",
          "Australia",
          "Canada",
          "United States",
          "Germany",
          "Belgium",
          "United Kingdom",
          "Lithuania",
          "France",
          "Slovenia",
          "Costa Rica",
          "Romania",
          "Singapore",
          "United Arab Emirates",
          "Uruguay",
          "Slovakia",
          "Saudi Arabia",
          "Estonia",
          "Spain",
          "Italy",
          "Chile",
          "Mexico",
          "Malta",
          "Panama",
          "Poland",
          "Nicaragua",
          "Latvia",
          "Bahrain",
          "Guatemala",
          "Kazakhstan",
          "Serbia",
          "Cyprus",
          "Japan",
          "Croatia",
          "Brazil",
          "El Salvador",
          "Hungary",
          "Argentina",
          "Honduras",
          "Uzbekistan",
          "Malaysia",
          "Portugal",
          "South Korea",
          "Greece",
          "Mauritius",
          "Thailand",
          "Mongolia",
          "Kyrgyzstan",
          "Moldova",
          "China",
          "Vietnam",
          "Paraguay",
          "Montenegro",
          "Jamaica",
          "Bolivia",
          "Russia",
          "Colombia",
          "Dominican Republic",
          "Ecuador",
          "Peru",
          "Philippines",
          "Bulgaria",
          "Nepal",
          "Armenia",
          "Tajikistan",
          "Algeria",
          "Albania",
          "Indonesia",
          "South Africa",
          "Venezuela",
          "Laos",
          "Georgia",
          "Guinea",
          "Ukraine",
          "Gabon",
          "Nigeria",
          "Cameroon",
          "Mozambique",
          "Iraq",
          "Morocco",
          "Iran",
          "Senegal",
          "Mauritania",
          "Burkina Faso",
          "Namibia",
          "Ghana",
          "Pakistan",
          "Niger",
          "Tunisia",
          "Kenya",
          "Sri Lanka",
          "Uganda",
          "Chad",
          "Cambodia",
          "Benin",
          "Myanmar",
          "Bangladesh",
          "Mali",
          "Egypt",
          "Togo",
          "Jordan",
          "Ethiopia",
          "Liberia",
          "India",
          "Madagascar",
          "Zambia",
          "Tanzania",
          "Comoros",
          "Malawi",
          "Botswana",
          "Zimbabwe",
          "Sierra Leone",
          "Lebanon",
          "Afghanistan"
         ],
         "name": "",
         "z": [
          7.804,
          7.586,
          7.53,
          7.473,
          7.403,
          7.395,
          7.315,
          7.24,
          7.228,
          7.123,
          7.097,
          7.095,
          6.961,
          6.894,
          6.892,
          6.859,
          6.796,
          6.763,
          6.661,
          6.65,
          6.609,
          6.589,
          6.587,
          6.571,
          6.494,
          6.469,
          6.463,
          6.455,
          6.436,
          6.405,
          6.334,
          6.33,
          6.3,
          6.265,
          6.26,
          6.259,
          6.213,
          6.173,
          6.15,
          6.144,
          6.144,
          6.13,
          6.129,
          6.125,
          6.125,
          6.122,
          6.041,
          6.024,
          6.023,
          6.014,
          6.012,
          5.968,
          5.951,
          5.931,
          5.902,
          5.843,
          5.84,
          5.825,
          5.819,
          5.818,
          5.763,
          5.738,
          5.722,
          5.703,
          5.684,
          5.661,
          5.63,
          5.569,
          5.559,
          5.526,
          5.523,
          5.466,
          5.36,
          5.342,
          5.33,
          5.329,
          5.277,
          5.277,
          5.275,
          5.211,
          5.111,
          5.109,
          5.072,
          5.071,
          5.035,
          4.981,
          4.973,
          4.954,
          4.941,
          4.903,
          4.876,
          4.855,
          4.724,
          4.638,
          4.631,
          4.605,
          4.555,
          4.501,
          4.497,
          4.487,
          4.442,
          4.432,
          4.397,
          4.393,
          4.374,
          4.372,
          4.282,
          4.198,
          4.17,
          4.137,
          4.12,
          4.091,
          4.042,
          4.036,
          4.019,
          3.982,
          3.694,
          3.545,
          3.495,
          3.435,
          3.204,
          3.138,
          2.392,
          1.859
         ],
         "type": "choropleth"
        }
       ],
       "layout": {
        "template": {
         "data": {
          "histogram2dcontour": [
           {
            "type": "histogram2dcontour",
            "colorbar": {
             "outlinewidth": 0,
             "ticks": ""
            },
            "colorscale": [
             [
              0.0,
              "#0d0887"
             ],
             [
              0.1111111111111111,
              "#46039f"
             ],
             [
              0.2222222222222222,
              "#7201a8"
             ],
             [
              0.3333333333333333,
              "#9c179e"
             ],
             [
              0.4444444444444444,
              "#bd3786"
             ],
             [
              0.5555555555555556,
              "#d8576b"
             ],
             [
              0.6666666666666666,
              "#ed7953"
             ],
             [
              0.7777777777777778,
              "#fb9f3a"
             ],
             [
              0.8888888888888888,
              "#fdca26"
             ],
             [
              1.0,
              "#f0f921"
             ]
            ]
           }
          ],
          "choropleth": [
           {
            "type": "choropleth",
            "colorbar": {
             "outlinewidth": 0,
             "ticks": ""
            }
           }
          ],
          "histogram2d": [
           {
            "type": "histogram2d",
            "colorbar": {
             "outlinewidth": 0,
             "ticks": ""
            },
            "colorscale": [
             [
              0.0,
              "#0d0887"
             ],
             [
              0.1111111111111111,
              "#46039f"
             ],
             [
              0.2222222222222222,
              "#7201a8"
             ],
             [
              0.3333333333333333,
              "#9c179e"
             ],
             [
              0.4444444444444444,
              "#bd3786"
             ],
             [
              0.5555555555555556,
              "#d8576b"
             ],
             [
              0.6666666666666666,
              "#ed7953"
             ],
             [
              0.7777777777777778,
              "#fb9f3a"
             ],
             [
              0.8888888888888888,
              "#fdca26"
             ],
             [
              1.0,
              "#f0f921"
             ]
            ]
           }
          ],
          "heatmap": [
           {
            "type": "heatmap",
            "colorbar": {
             "outlinewidth": 0,
             "ticks": ""
            },
            "colorscale": [
             [
              0.0,
              "#0d0887"
             ],
             [
              0.1111111111111111,
              "#46039f"
             ],
             [
              0.2222222222222222,
              "#7201a8"
             ],
             [
              0.3333333333333333,
              "#9c179e"
             ],
             [
              0.4444444444444444,
              "#bd3786"
             ],
             [
              0.5555555555555556,
              "#d8576b"
             ],
             [
              0.6666666666666666,
              "#ed7953"
             ],
             [
              0.7777777777777778,
              "#fb9f3a"
             ],
             [
              0.8888888888888888,
              "#fdca26"
             ],
             [
              1.0,
              "#f0f921"
             ]
            ]
           }
          ],
          "heatmapgl": [
           {
            "type": "heatmapgl",
            "colorbar": {
             "outlinewidth": 0,
             "ticks": ""
            },
            "colorscale": [
             [
              0.0,
              "#0d0887"
             ],
             [
              0.1111111111111111,
              "#46039f"
             ],
             [
              0.2222222222222222,
              "#7201a8"
             ],
             [
              0.3333333333333333,
              "#9c179e"
             ],
             [
              0.4444444444444444,
              "#bd3786"
             ],
             [
              0.5555555555555556,
              "#d8576b"
             ],
             [
              0.6666666666666666,
              "#ed7953"
             ],
             [
              0.7777777777777778,
              "#fb9f3a"
             ],
             [
              0.8888888888888888,
              "#fdca26"
             ],
             [
              1.0,
              "#f0f921"
             ]
            ]
           }
          ],
          "contourcarpet": [
           {
            "type": "contourcarpet",
            "colorbar": {
             "outlinewidth": 0,
             "ticks": ""
            }
           }
          ],
          "contour": [
           {
            "type": "contour",
            "colorbar": {
             "outlinewidth": 0,
             "ticks": ""
            },
            "colorscale": [
             [
              0.0,
              "#0d0887"
             ],
             [
              0.1111111111111111,
              "#46039f"
             ],
             [
              0.2222222222222222,
              "#7201a8"
             ],
             [
              0.3333333333333333,
              "#9c179e"
             ],
             [
              0.4444444444444444,
              "#bd3786"
             ],
             [
              0.5555555555555556,
              "#d8576b"
             ],
             [
              0.6666666666666666,
              "#ed7953"
             ],
             [
              0.7777777777777778,
              "#fb9f3a"
             ],
             [
              0.8888888888888888,
              "#fdca26"
             ],
             [
              1.0,
              "#f0f921"
             ]
            ]
           }
          ],
          "surface": [
           {
            "type": "surface",
            "colorbar": {
             "outlinewidth": 0,
             "ticks": ""
            },
            "colorscale": [
             [
              0.0,
              "#0d0887"
             ],
             [
              0.1111111111111111,
              "#46039f"
             ],
             [
              0.2222222222222222,
              "#7201a8"
             ],
             [
              0.3333333333333333,
              "#9c179e"
             ],
             [
              0.4444444444444444,
              "#bd3786"
             ],
             [
              0.5555555555555556,
              "#d8576b"
             ],
             [
              0.6666666666666666,
              "#ed7953"
             ],
             [
              0.7777777777777778,
              "#fb9f3a"
             ],
             [
              0.8888888888888888,
              "#fdca26"
             ],
             [
              1.0,
              "#f0f921"
             ]
            ]
           }
          ],
          "mesh3d": [
           {
            "type": "mesh3d",
            "colorbar": {
             "outlinewidth": 0,
             "ticks": ""
            }
           }
          ],
          "scatter": [
           {
            "marker": {
             "line": {
              "color": "#283442"
             }
            },
            "type": "scatter"
           }
          ],
          "parcoords": [
           {
            "type": "parcoords",
            "line": {
             "colorbar": {
              "outlinewidth": 0,
              "ticks": ""
             }
            }
           }
          ],
          "scatterpolargl": [
           {
            "type": "scatterpolargl",
            "marker": {
             "colorbar": {
              "outlinewidth": 0,
              "ticks": ""
             }
            }
           }
          ],
          "bar": [
           {
            "error_x": {
             "color": "#f2f5fa"
            },
            "error_y": {
             "color": "#f2f5fa"
            },
            "marker": {
             "line": {
              "color": "rgb(17,17,17)",
              "width": 0.5
             },
             "pattern": {
              "fillmode": "overlay",
              "size": 10,
              "solidity": 0.2
             }
            },
            "type": "bar"
           }
          ],
          "scattergeo": [
           {
            "type": "scattergeo",
            "marker": {
             "colorbar": {
              "outlinewidth": 0,
              "ticks": ""
             }
            }
           }
          ],
          "scatterpolar": [
           {
            "type": "scatterpolar",
            "marker": {
             "colorbar": {
              "outlinewidth": 0,
              "ticks": ""
             }
            }
           }
          ],
          "histogram": [
           {
            "marker": {
             "pattern": {
              "fillmode": "overlay",
              "size": 10,
              "solidity": 0.2
             }
            },
            "type": "histogram"
           }
          ],
          "scattergl": [
           {
            "marker": {
             "line": {
              "color": "#283442"
             }
            },
            "type": "scattergl"
           }
          ],
          "scatter3d": [
           {
            "type": "scatter3d",
            "line": {
             "colorbar": {
              "outlinewidth": 0,
              "ticks": ""
             }
            },
            "marker": {
             "colorbar": {
              "outlinewidth": 0,
              "ticks": ""
             }
            }
           }
          ],
          "scattermapbox": [
           {
            "type": "scattermapbox",
            "marker": {
             "colorbar": {
              "outlinewidth": 0,
              "ticks": ""
             }
            }
           }
          ],
          "scatterternary": [
           {
            "type": "scatterternary",
            "marker": {
             "colorbar": {
              "outlinewidth": 0,
              "ticks": ""
             }
            }
           }
          ],
          "scattercarpet": [
           {
            "type": "scattercarpet",
            "marker": {
             "colorbar": {
              "outlinewidth": 0,
              "ticks": ""
             }
            }
           }
          ],
          "carpet": [
           {
            "aaxis": {
             "endlinecolor": "#A2B1C6",
             "gridcolor": "#506784",
             "linecolor": "#506784",
             "minorgridcolor": "#506784",
             "startlinecolor": "#A2B1C6"
            },
            "baxis": {
             "endlinecolor": "#A2B1C6",
             "gridcolor": "#506784",
             "linecolor": "#506784",
             "minorgridcolor": "#506784",
             "startlinecolor": "#A2B1C6"
            },
            "type": "carpet"
           }
          ],
          "table": [
           {
            "cells": {
             "fill": {
              "color": "#506784"
             },
             "line": {
              "color": "rgb(17,17,17)"
             }
            },
            "header": {
             "fill": {
              "color": "#2a3f5f"
             },
             "line": {
              "color": "rgb(17,17,17)"
             }
            },
            "type": "table"
           }
          ],
          "barpolar": [
           {
            "marker": {
             "line": {
              "color": "rgb(17,17,17)",
              "width": 0.5
             },
             "pattern": {
              "fillmode": "overlay",
              "size": 10,
              "solidity": 0.2
             }
            },
            "type": "barpolar"
           }
          ],
          "pie": [
           {
            "automargin": true,
            "type": "pie"
           }
          ]
         },
         "layout": {
          "autotypenumbers": "strict",
          "colorway": [
           "#636efa",
           "#EF553B",
           "#00cc96",
           "#ab63fa",
           "#FFA15A",
           "#19d3f3",
           "#FF6692",
           "#B6E880",
           "#FF97FF",
           "#FECB52"
          ],
          "font": {
           "color": "#f2f5fa"
          },
          "hovermode": "closest",
          "hoverlabel": {
           "align": "left"
          },
          "paper_bgcolor": "rgb(17,17,17)",
          "plot_bgcolor": "rgb(17,17,17)",
          "polar": {
           "bgcolor": "rgb(17,17,17)",
           "angularaxis": {
            "gridcolor": "#506784",
            "linecolor": "#506784",
            "ticks": ""
           },
           "radialaxis": {
            "gridcolor": "#506784",
            "linecolor": "#506784",
            "ticks": ""
           }
          },
          "ternary": {
           "bgcolor": "rgb(17,17,17)",
           "aaxis": {
            "gridcolor": "#506784",
            "linecolor": "#506784",
            "ticks": ""
           },
           "baxis": {
            "gridcolor": "#506784",
            "linecolor": "#506784",
            "ticks": ""
           },
           "caxis": {
            "gridcolor": "#506784",
            "linecolor": "#506784",
            "ticks": ""
           }
          },
          "coloraxis": {
           "colorbar": {
            "outlinewidth": 0,
            "ticks": ""
           }
          },
          "colorscale": {
           "sequential": [
            [
             0.0,
             "#0d0887"
            ],
            [
             0.1111111111111111,
             "#46039f"
            ],
            [
             0.2222222222222222,
             "#7201a8"
            ],
            [
             0.3333333333333333,
             "#9c179e"
            ],
            [
             0.4444444444444444,
             "#bd3786"
            ],
            [
             0.5555555555555556,
             "#d8576b"
            ],
            [
             0.6666666666666666,
             "#ed7953"
            ],
            [
             0.7777777777777778,
             "#fb9f3a"
            ],
            [
             0.8888888888888888,
             "#fdca26"
            ],
            [
             1.0,
             "#f0f921"
            ]
           ],
           "sequentialminus": [
            [
             0.0,
             "#0d0887"
            ],
            [
             0.1111111111111111,
             "#46039f"
            ],
            [
             0.2222222222222222,
             "#7201a8"
            ],
            [
             0.3333333333333333,
             "#9c179e"
            ],
            [
             0.4444444444444444,
             "#bd3786"
            ],
            [
             0.5555555555555556,
             "#d8576b"
            ],
            [
             0.6666666666666666,
             "#ed7953"
            ],
            [
             0.7777777777777778,
             "#fb9f3a"
            ],
            [
             0.8888888888888888,
             "#fdca26"
            ],
            [
             1.0,
             "#f0f921"
            ]
           ],
           "diverging": [
            [
             0,
             "#8e0152"
            ],
            [
             0.1,
             "#c51b7d"
            ],
            [
             0.2,
             "#de77ae"
            ],
            [
             0.3,
             "#f1b6da"
            ],
            [
             0.4,
             "#fde0ef"
            ],
            [
             0.5,
             "#f7f7f7"
            ],
            [
             0.6,
             "#e6f5d0"
            ],
            [
             0.7,
             "#b8e186"
            ],
            [
             0.8,
             "#7fbc41"
            ],
            [
             0.9,
             "#4d9221"
            ],
            [
             1,
             "#276419"
            ]
           ]
          },
          "xaxis": {
           "gridcolor": "#283442",
           "linecolor": "#506784",
           "ticks": "",
           "title": {
            "standoff": 15
           },
           "zerolinecolor": "#283442",
           "automargin": true,
           "zerolinewidth": 2
          },
          "yaxis": {
           "gridcolor": "#283442",
           "linecolor": "#506784",
           "ticks": "",
           "title": {
            "standoff": 15
           },
           "zerolinecolor": "#283442",
           "automargin": true,
           "zerolinewidth": 2
          },
          "scene": {
           "xaxis": {
            "backgroundcolor": "rgb(17,17,17)",
            "gridcolor": "#506784",
            "linecolor": "#506784",
            "showbackground": true,
            "ticks": "",
            "zerolinecolor": "#C8D4E3",
            "gridwidth": 2
           },
           "yaxis": {
            "backgroundcolor": "rgb(17,17,17)",
            "gridcolor": "#506784",
            "linecolor": "#506784",
            "showbackground": true,
            "ticks": "",
            "zerolinecolor": "#C8D4E3",
            "gridwidth": 2
           },
           "zaxis": {
            "backgroundcolor": "rgb(17,17,17)",
            "gridcolor": "#506784",
            "linecolor": "#506784",
            "showbackground": true,
            "ticks": "",
            "zerolinecolor": "#C8D4E3",
            "gridwidth": 2
           }
          },
          "shapedefaults": {
           "line": {
            "color": "#f2f5fa"
           }
          },
          "annotationdefaults": {
           "arrowcolor": "#f2f5fa",
           "arrowhead": 0,
           "arrowwidth": 1
          },
          "geo": {
           "bgcolor": "rgb(17,17,17)",
           "landcolor": "rgb(17,17,17)",
           "subunitcolor": "#506784",
           "showland": true,
           "showlakes": true,
           "lakecolor": "rgb(17,17,17)"
          },
          "title": {
           "x": 0.05
          },
          "updatemenudefaults": {
           "bgcolor": "#506784",
           "borderwidth": 0
          },
          "sliderdefaults": {
           "bgcolor": "#C8D4E3",
           "borderwidth": 1,
           "bordercolor": "rgb(17,17,17)",
           "tickwidth": 0
          },
          "mapbox": {
           "style": "dark"
          }
         }
        },
        "geo": {
         "domain": {
          "x": [
           0.0,
           1.0
          ],
          "y": [
           0.0,
           1.0
          ]
         },
         "center": {}
        },
        "coloraxis": {
         "colorbar": {
          "title": {
           "text": "Ladder score"
          }
         },
         "colorscale": [
          [
           0.0,
           "red"
          ],
          [
           0.5,
           "orange"
          ],
          [
           1.0,
           "green"
          ]
         ]
        },
        "legend": {
         "tracegroupgap": 0
        },
        "title": {
         "text": "World Happiness Report: Ladder score by country"
        }
       },
       "config": {
        "plotlyServerURL": "https://plot.ly"
       }
      },
      "text/html": "<div>                            <div id=\"8d83af55-9b9e-4efb-a55e-5cd35fa3b3cf\" class=\"plotly-graph-div\" style=\"height:525px; width:100%;\"></div>            <script type=\"text/javascript\">                require([\"plotly\"], function(Plotly) {                    window.PLOTLYENV=window.PLOTLYENV || {};                                    if (document.getElementById(\"8d83af55-9b9e-4efb-a55e-5cd35fa3b3cf\")) {                    Plotly.newPlot(                        \"8d83af55-9b9e-4efb-a55e-5cd35fa3b3cf\",                        [{\"coloraxis\":\"coloraxis\",\"geo\":\"geo\",\"hovertemplate\":\"\\u003cb\\u003e%{hovertext}\\u003c\\u002fb\\u003e\\u003cbr\\u003e\\u003cbr\\u003eCountry name=%{location}\\u003cbr\\u003eLadder score=%{z}\\u003cextra\\u003e\\u003c\\u002fextra\\u003e\",\"hovertext\":[\"Finland\",\"Denmark\",\"Iceland\",\"Israel\",\"Netherlands\",\"Sweden\",\"Norway\",\"Switzerland\",\"Luxembourg\",\"New Zealand\",\"Austria\",\"Australia\",\"Canada\",\"United States\",\"Germany\",\"Belgium\",\"United Kingdom\",\"Lithuania\",\"France\",\"Slovenia\",\"Costa Rica\",\"Romania\",\"Singapore\",\"United Arab Emirates\",\"Uruguay\",\"Slovakia\",\"Saudi Arabia\",\"Estonia\",\"Spain\",\"Italy\",\"Chile\",\"Mexico\",\"Malta\",\"Panama\",\"Poland\",\"Nicaragua\",\"Latvia\",\"Bahrain\",\"Guatemala\",\"Kazakhstan\",\"Serbia\",\"Cyprus\",\"Japan\",\"Croatia\",\"Brazil\",\"El Salvador\",\"Hungary\",\"Argentina\",\"Honduras\",\"Uzbekistan\",\"Malaysia\",\"Portugal\",\"South Korea\",\"Greece\",\"Mauritius\",\"Thailand\",\"Mongolia\",\"Kyrgyzstan\",\"Moldova\",\"China\",\"Vietnam\",\"Paraguay\",\"Montenegro\",\"Jamaica\",\"Bolivia\",\"Russia\",\"Colombia\",\"Dominican Republic\",\"Ecuador\",\"Peru\",\"Philippines\",\"Bulgaria\",\"Nepal\",\"Armenia\",\"Tajikistan\",\"Algeria\",\"Albania\",\"Indonesia\",\"South Africa\",\"Venezuela\",\"Laos\",\"Georgia\",\"Guinea\",\"Ukraine\",\"Gabon\",\"Nigeria\",\"Cameroon\",\"Mozambique\",\"Iraq\",\"Morocco\",\"Iran\",\"Senegal\",\"Mauritania\",\"Burkina Faso\",\"Namibia\",\"Ghana\",\"Pakistan\",\"Niger\",\"Tunisia\",\"Kenya\",\"Sri Lanka\",\"Uganda\",\"Chad\",\"Cambodia\",\"Benin\",\"Myanmar\",\"Bangladesh\",\"Mali\",\"Egypt\",\"Togo\",\"Jordan\",\"Ethiopia\",\"Liberia\",\"India\",\"Madagascar\",\"Zambia\",\"Tanzania\",\"Comoros\",\"Malawi\",\"Botswana\",\"Zimbabwe\",\"Sierra Leone\",\"Lebanon\",\"Afghanistan\"],\"locationmode\":\"country names\",\"locations\":[\"Finland\",\"Denmark\",\"Iceland\",\"Israel\",\"Netherlands\",\"Sweden\",\"Norway\",\"Switzerland\",\"Luxembourg\",\"New Zealand\",\"Austria\",\"Australia\",\"Canada\",\"United States\",\"Germany\",\"Belgium\",\"United Kingdom\",\"Lithuania\",\"France\",\"Slovenia\",\"Costa Rica\",\"Romania\",\"Singapore\",\"United Arab Emirates\",\"Uruguay\",\"Slovakia\",\"Saudi Arabia\",\"Estonia\",\"Spain\",\"Italy\",\"Chile\",\"Mexico\",\"Malta\",\"Panama\",\"Poland\",\"Nicaragua\",\"Latvia\",\"Bahrain\",\"Guatemala\",\"Kazakhstan\",\"Serbia\",\"Cyprus\",\"Japan\",\"Croatia\",\"Brazil\",\"El Salvador\",\"Hungary\",\"Argentina\",\"Honduras\",\"Uzbekistan\",\"Malaysia\",\"Portugal\",\"South Korea\",\"Greece\",\"Mauritius\",\"Thailand\",\"Mongolia\",\"Kyrgyzstan\",\"Moldova\",\"China\",\"Vietnam\",\"Paraguay\",\"Montenegro\",\"Jamaica\",\"Bolivia\",\"Russia\",\"Colombia\",\"Dominican Republic\",\"Ecuador\",\"Peru\",\"Philippines\",\"Bulgaria\",\"Nepal\",\"Armenia\",\"Tajikistan\",\"Algeria\",\"Albania\",\"Indonesia\",\"South Africa\",\"Venezuela\",\"Laos\",\"Georgia\",\"Guinea\",\"Ukraine\",\"Gabon\",\"Nigeria\",\"Cameroon\",\"Mozambique\",\"Iraq\",\"Morocco\",\"Iran\",\"Senegal\",\"Mauritania\",\"Burkina Faso\",\"Namibia\",\"Ghana\",\"Pakistan\",\"Niger\",\"Tunisia\",\"Kenya\",\"Sri Lanka\",\"Uganda\",\"Chad\",\"Cambodia\",\"Benin\",\"Myanmar\",\"Bangladesh\",\"Mali\",\"Egypt\",\"Togo\",\"Jordan\",\"Ethiopia\",\"Liberia\",\"India\",\"Madagascar\",\"Zambia\",\"Tanzania\",\"Comoros\",\"Malawi\",\"Botswana\",\"Zimbabwe\",\"Sierra Leone\",\"Lebanon\",\"Afghanistan\"],\"name\":\"\",\"z\":[7.804,7.586,7.53,7.473,7.403,7.395,7.315,7.24,7.228,7.123,7.097,7.095,6.961,6.894,6.892,6.859,6.796,6.763,6.661,6.65,6.609,6.589,6.587,6.571,6.494,6.469,6.463,6.455,6.436,6.405,6.334,6.33,6.3,6.265,6.26,6.259,6.213,6.173,6.15,6.144,6.144,6.13,6.129,6.125,6.125,6.122,6.041,6.024,6.023,6.014,6.012,5.968,5.951,5.931,5.902,5.843,5.84,5.825,5.819,5.818,5.763,5.738,5.722,5.703,5.684,5.661,5.63,5.569,5.559,5.526,5.523,5.466,5.36,5.342,5.33,5.329,5.277,5.277,5.275,5.211,5.111,5.109,5.072,5.071,5.035,4.981,4.973,4.954,4.941,4.903,4.876,4.855,4.724,4.638,4.631,4.605,4.555,4.501,4.497,4.487,4.442,4.432,4.397,4.393,4.374,4.372,4.282,4.198,4.17,4.137,4.12,4.091,4.042,4.036,4.019,3.982,3.694,3.545,3.495,3.435,3.204,3.138,2.392,1.859],\"type\":\"choropleth\"}],                        {\"template\":{\"data\":{\"histogram2dcontour\":[{\"type\":\"histogram2dcontour\",\"colorbar\":{\"outlinewidth\":0,\"ticks\":\"\"},\"colorscale\":[[0.0,\"#0d0887\"],[0.1111111111111111,\"#46039f\"],[0.2222222222222222,\"#7201a8\"],[0.3333333333333333,\"#9c179e\"],[0.4444444444444444,\"#bd3786\"],[0.5555555555555556,\"#d8576b\"],[0.6666666666666666,\"#ed7953\"],[0.7777777777777778,\"#fb9f3a\"],[0.8888888888888888,\"#fdca26\"],[1.0,\"#f0f921\"]]}],\"choropleth\":[{\"type\":\"choropleth\",\"colorbar\":{\"outlinewidth\":0,\"ticks\":\"\"}}],\"histogram2d\":[{\"type\":\"histogram2d\",\"colorbar\":{\"outlinewidth\":0,\"ticks\":\"\"},\"colorscale\":[[0.0,\"#0d0887\"],[0.1111111111111111,\"#46039f\"],[0.2222222222222222,\"#7201a8\"],[0.3333333333333333,\"#9c179e\"],[0.4444444444444444,\"#bd3786\"],[0.5555555555555556,\"#d8576b\"],[0.6666666666666666,\"#ed7953\"],[0.7777777777777778,\"#fb9f3a\"],[0.8888888888888888,\"#fdca26\"],[1.0,\"#f0f921\"]]}],\"heatmap\":[{\"type\":\"heatmap\",\"colorbar\":{\"outlinewidth\":0,\"ticks\":\"\"},\"colorscale\":[[0.0,\"#0d0887\"],[0.1111111111111111,\"#46039f\"],[0.2222222222222222,\"#7201a8\"],[0.3333333333333333,\"#9c179e\"],[0.4444444444444444,\"#bd3786\"],[0.5555555555555556,\"#d8576b\"],[0.6666666666666666,\"#ed7953\"],[0.7777777777777778,\"#fb9f3a\"],[0.8888888888888888,\"#fdca26\"],[1.0,\"#f0f921\"]]}],\"heatmapgl\":[{\"type\":\"heatmapgl\",\"colorbar\":{\"outlinewidth\":0,\"ticks\":\"\"},\"colorscale\":[[0.0,\"#0d0887\"],[0.1111111111111111,\"#46039f\"],[0.2222222222222222,\"#7201a8\"],[0.3333333333333333,\"#9c179e\"],[0.4444444444444444,\"#bd3786\"],[0.5555555555555556,\"#d8576b\"],[0.6666666666666666,\"#ed7953\"],[0.7777777777777778,\"#fb9f3a\"],[0.8888888888888888,\"#fdca26\"],[1.0,\"#f0f921\"]]}],\"contourcarpet\":[{\"type\":\"contourcarpet\",\"colorbar\":{\"outlinewidth\":0,\"ticks\":\"\"}}],\"contour\":[{\"type\":\"contour\",\"colorbar\":{\"outlinewidth\":0,\"ticks\":\"\"},\"colorscale\":[[0.0,\"#0d0887\"],[0.1111111111111111,\"#46039f\"],[0.2222222222222222,\"#7201a8\"],[0.3333333333333333,\"#9c179e\"],[0.4444444444444444,\"#bd3786\"],[0.5555555555555556,\"#d8576b\"],[0.6666666666666666,\"#ed7953\"],[0.7777777777777778,\"#fb9f3a\"],[0.8888888888888888,\"#fdca26\"],[1.0,\"#f0f921\"]]}],\"surface\":[{\"type\":\"surface\",\"colorbar\":{\"outlinewidth\":0,\"ticks\":\"\"},\"colorscale\":[[0.0,\"#0d0887\"],[0.1111111111111111,\"#46039f\"],[0.2222222222222222,\"#7201a8\"],[0.3333333333333333,\"#9c179e\"],[0.4444444444444444,\"#bd3786\"],[0.5555555555555556,\"#d8576b\"],[0.6666666666666666,\"#ed7953\"],[0.7777777777777778,\"#fb9f3a\"],[0.8888888888888888,\"#fdca26\"],[1.0,\"#f0f921\"]]}],\"mesh3d\":[{\"type\":\"mesh3d\",\"colorbar\":{\"outlinewidth\":0,\"ticks\":\"\"}}],\"scatter\":[{\"marker\":{\"line\":{\"color\":\"#283442\"}},\"type\":\"scatter\"}],\"parcoords\":[{\"type\":\"parcoords\",\"line\":{\"colorbar\":{\"outlinewidth\":0,\"ticks\":\"\"}}}],\"scatterpolargl\":[{\"type\":\"scatterpolargl\",\"marker\":{\"colorbar\":{\"outlinewidth\":0,\"ticks\":\"\"}}}],\"bar\":[{\"error_x\":{\"color\":\"#f2f5fa\"},\"error_y\":{\"color\":\"#f2f5fa\"},\"marker\":{\"line\":{\"color\":\"rgb(17,17,17)\",\"width\":0.5},\"pattern\":{\"fillmode\":\"overlay\",\"size\":10,\"solidity\":0.2}},\"type\":\"bar\"}],\"scattergeo\":[{\"type\":\"scattergeo\",\"marker\":{\"colorbar\":{\"outlinewidth\":0,\"ticks\":\"\"}}}],\"scatterpolar\":[{\"type\":\"scatterpolar\",\"marker\":{\"colorbar\":{\"outlinewidth\":0,\"ticks\":\"\"}}}],\"histogram\":[{\"marker\":{\"pattern\":{\"fillmode\":\"overlay\",\"size\":10,\"solidity\":0.2}},\"type\":\"histogram\"}],\"scattergl\":[{\"marker\":{\"line\":{\"color\":\"#283442\"}},\"type\":\"scattergl\"}],\"scatter3d\":[{\"type\":\"scatter3d\",\"line\":{\"colorbar\":{\"outlinewidth\":0,\"ticks\":\"\"}},\"marker\":{\"colorbar\":{\"outlinewidth\":0,\"ticks\":\"\"}}}],\"scattermapbox\":[{\"type\":\"scattermapbox\",\"marker\":{\"colorbar\":{\"outlinewidth\":0,\"ticks\":\"\"}}}],\"scatterternary\":[{\"type\":\"scatterternary\",\"marker\":{\"colorbar\":{\"outlinewidth\":0,\"ticks\":\"\"}}}],\"scattercarpet\":[{\"type\":\"scattercarpet\",\"marker\":{\"colorbar\":{\"outlinewidth\":0,\"ticks\":\"\"}}}],\"carpet\":[{\"aaxis\":{\"endlinecolor\":\"#A2B1C6\",\"gridcolor\":\"#506784\",\"linecolor\":\"#506784\",\"minorgridcolor\":\"#506784\",\"startlinecolor\":\"#A2B1C6\"},\"baxis\":{\"endlinecolor\":\"#A2B1C6\",\"gridcolor\":\"#506784\",\"linecolor\":\"#506784\",\"minorgridcolor\":\"#506784\",\"startlinecolor\":\"#A2B1C6\"},\"type\":\"carpet\"}],\"table\":[{\"cells\":{\"fill\":{\"color\":\"#506784\"},\"line\":{\"color\":\"rgb(17,17,17)\"}},\"header\":{\"fill\":{\"color\":\"#2a3f5f\"},\"line\":{\"color\":\"rgb(17,17,17)\"}},\"type\":\"table\"}],\"barpolar\":[{\"marker\":{\"line\":{\"color\":\"rgb(17,17,17)\",\"width\":0.5},\"pattern\":{\"fillmode\":\"overlay\",\"size\":10,\"solidity\":0.2}},\"type\":\"barpolar\"}],\"pie\":[{\"automargin\":true,\"type\":\"pie\"}]},\"layout\":{\"autotypenumbers\":\"strict\",\"colorway\":[\"#636efa\",\"#EF553B\",\"#00cc96\",\"#ab63fa\",\"#FFA15A\",\"#19d3f3\",\"#FF6692\",\"#B6E880\",\"#FF97FF\",\"#FECB52\"],\"font\":{\"color\":\"#f2f5fa\"},\"hovermode\":\"closest\",\"hoverlabel\":{\"align\":\"left\"},\"paper_bgcolor\":\"rgb(17,17,17)\",\"plot_bgcolor\":\"rgb(17,17,17)\",\"polar\":{\"bgcolor\":\"rgb(17,17,17)\",\"angularaxis\":{\"gridcolor\":\"#506784\",\"linecolor\":\"#506784\",\"ticks\":\"\"},\"radialaxis\":{\"gridcolor\":\"#506784\",\"linecolor\":\"#506784\",\"ticks\":\"\"}},\"ternary\":{\"bgcolor\":\"rgb(17,17,17)\",\"aaxis\":{\"gridcolor\":\"#506784\",\"linecolor\":\"#506784\",\"ticks\":\"\"},\"baxis\":{\"gridcolor\":\"#506784\",\"linecolor\":\"#506784\",\"ticks\":\"\"},\"caxis\":{\"gridcolor\":\"#506784\",\"linecolor\":\"#506784\",\"ticks\":\"\"}},\"coloraxis\":{\"colorbar\":{\"outlinewidth\":0,\"ticks\":\"\"}},\"colorscale\":{\"sequential\":[[0.0,\"#0d0887\"],[0.1111111111111111,\"#46039f\"],[0.2222222222222222,\"#7201a8\"],[0.3333333333333333,\"#9c179e\"],[0.4444444444444444,\"#bd3786\"],[0.5555555555555556,\"#d8576b\"],[0.6666666666666666,\"#ed7953\"],[0.7777777777777778,\"#fb9f3a\"],[0.8888888888888888,\"#fdca26\"],[1.0,\"#f0f921\"]],\"sequentialminus\":[[0.0,\"#0d0887\"],[0.1111111111111111,\"#46039f\"],[0.2222222222222222,\"#7201a8\"],[0.3333333333333333,\"#9c179e\"],[0.4444444444444444,\"#bd3786\"],[0.5555555555555556,\"#d8576b\"],[0.6666666666666666,\"#ed7953\"],[0.7777777777777778,\"#fb9f3a\"],[0.8888888888888888,\"#fdca26\"],[1.0,\"#f0f921\"]],\"diverging\":[[0,\"#8e0152\"],[0.1,\"#c51b7d\"],[0.2,\"#de77ae\"],[0.3,\"#f1b6da\"],[0.4,\"#fde0ef\"],[0.5,\"#f7f7f7\"],[0.6,\"#e6f5d0\"],[0.7,\"#b8e186\"],[0.8,\"#7fbc41\"],[0.9,\"#4d9221\"],[1,\"#276419\"]]},\"xaxis\":{\"gridcolor\":\"#283442\",\"linecolor\":\"#506784\",\"ticks\":\"\",\"title\":{\"standoff\":15},\"zerolinecolor\":\"#283442\",\"automargin\":true,\"zerolinewidth\":2},\"yaxis\":{\"gridcolor\":\"#283442\",\"linecolor\":\"#506784\",\"ticks\":\"\",\"title\":{\"standoff\":15},\"zerolinecolor\":\"#283442\",\"automargin\":true,\"zerolinewidth\":2},\"scene\":{\"xaxis\":{\"backgroundcolor\":\"rgb(17,17,17)\",\"gridcolor\":\"#506784\",\"linecolor\":\"#506784\",\"showbackground\":true,\"ticks\":\"\",\"zerolinecolor\":\"#C8D4E3\",\"gridwidth\":2},\"yaxis\":{\"backgroundcolor\":\"rgb(17,17,17)\",\"gridcolor\":\"#506784\",\"linecolor\":\"#506784\",\"showbackground\":true,\"ticks\":\"\",\"zerolinecolor\":\"#C8D4E3\",\"gridwidth\":2},\"zaxis\":{\"backgroundcolor\":\"rgb(17,17,17)\",\"gridcolor\":\"#506784\",\"linecolor\":\"#506784\",\"showbackground\":true,\"ticks\":\"\",\"zerolinecolor\":\"#C8D4E3\",\"gridwidth\":2}},\"shapedefaults\":{\"line\":{\"color\":\"#f2f5fa\"}},\"annotationdefaults\":{\"arrowcolor\":\"#f2f5fa\",\"arrowhead\":0,\"arrowwidth\":1},\"geo\":{\"bgcolor\":\"rgb(17,17,17)\",\"landcolor\":\"rgb(17,17,17)\",\"subunitcolor\":\"#506784\",\"showland\":true,\"showlakes\":true,\"lakecolor\":\"rgb(17,17,17)\"},\"title\":{\"x\":0.05},\"updatemenudefaults\":{\"bgcolor\":\"#506784\",\"borderwidth\":0},\"sliderdefaults\":{\"bgcolor\":\"#C8D4E3\",\"borderwidth\":1,\"bordercolor\":\"rgb(17,17,17)\",\"tickwidth\":0},\"mapbox\":{\"style\":\"dark\"}}},\"geo\":{\"domain\":{\"x\":[0.0,1.0],\"y\":[0.0,1.0]},\"center\":{}},\"coloraxis\":{\"colorbar\":{\"title\":{\"text\":\"Ladder score\"}},\"colorscale\":[[0.0,\"red\"],[0.5,\"orange\"],[1.0,\"green\"]]},\"legend\":{\"tracegroupgap\":0},\"title\":{\"text\":\"World Happiness Report: Ladder score by country\"}},                        {\"responsive\": true}                    ).then(function(){\n                            \nvar gd = document.getElementById('8d83af55-9b9e-4efb-a55e-5cd35fa3b3cf');\nvar x = new MutationObserver(function (mutations, observer) {{\n        var display = window.getComputedStyle(gd).display;\n        if (!display || display === 'none') {{\n            console.log([gd, 'removed!']);\n            Plotly.purge(gd);\n            observer.disconnect();\n        }}\n}});\n\n// Listen for the removal of the full notebook cells\nvar notebookContainer = gd.closest('#notebook-container');\nif (notebookContainer) {{\n    x.observe(notebookContainer, {childList: true});\n}}\n\n// Listen for the clearing of the current output cell\nvar outputEl = gd.closest('.output');\nif (outputEl) {{\n    x.observe(outputEl, {childList: true});\n}}\n\n                        })                };                });            </script>        </div>"
     },
     "metadata": {},
     "output_type": "display_data"
    }
   ],
   "source": [
    "import plotly.express as px\n",
    "\n",
    "# Define custom colors for the color scale\n",
    "custom_color_scale = [\n",
    "    (0.0, \"red\"),    # Low scores in red\n",
    "    (0.5, \"orange\"), # Medium scores in orange\n",
    "    (1.0, \"green\")   # High scores in green\n",
    "]\n",
    "\n",
    "fig = px.choropleth(full_data, locations=\"Country name\", locationmode='country names',\n",
    "                    color=\"Ladder score\", hover_name=\"Country name\",\n",
    "                    title=\"World Happiness Report: Ladder score by country\",\n",
    "                    color_continuous_scale=custom_color_scale)\n",
    "\n",
    "fig.show()"
   ]
  },
  {
   "cell_type": "code",
   "execution_count": 23,
   "id": "27b70a04",
   "metadata": {
    "execution": {
     "iopub.execute_input": "2023-09-08T10:58:59.015357Z",
     "iopub.status.busy": "2023-09-08T10:58:59.014668Z",
     "iopub.status.idle": "2023-09-08T10:58:59.189387Z",
     "shell.execute_reply": "2023-09-08T10:58:59.187980Z"
    },
    "papermill": {
     "duration": 0.19824,
     "end_time": "2023-09-08T10:58:59.192519",
     "exception": false,
     "start_time": "2023-09-08T10:58:58.994279",
     "status": "completed"
    },
    "tags": [],
    "ExecuteTime": {
     "end_time": "2023-12-10T16:01:04.837200800Z",
     "start_time": "2023-12-10T16:01:04.782030400Z"
    }
   },
   "outputs": [
    {
     "data": {
      "application/vnd.plotly.v1+json": {
       "data": [
        {
         "alignmentgroup": "True",
         "hovertemplate": "Continent=%{x}<br>Happiness Score=%{y}<extra></extra>",
         "legendgroup": "Europe",
         "marker": {
          "color": "#636efa"
         },
         "name": "Europe",
         "notched": false,
         "offsetgroup": "Europe",
         "orientation": "v",
         "showlegend": true,
         "x": [
          "Europe",
          "Europe",
          "Europe",
          "Europe",
          "Europe",
          "Europe",
          "Europe",
          "Europe",
          "Europe",
          "Europe",
          "Europe",
          "Europe",
          "Europe",
          "Europe",
          "Europe",
          "Europe",
          "Europe",
          "Europe",
          "Europe",
          "Europe",
          "Europe",
          "Europe",
          "Europe",
          "Europe",
          "Europe",
          "Europe",
          "Europe",
          "Europe",
          "Europe",
          "Europe",
          "Europe",
          "Europe",
          "Europe",
          "Europe"
         ],
         "x0": " ",
         "xaxis": "x",
         "y": [
          7.804,
          7.586,
          7.53,
          7.403,
          7.395,
          7.315,
          7.24,
          7.228,
          7.097,
          6.892,
          6.859,
          6.796,
          6.763,
          6.661,
          6.65,
          6.589,
          6.469,
          6.455,
          6.436,
          6.405,
          6.3,
          6.26,
          6.213,
          6.144,
          6.125,
          6.041,
          5.968,
          5.931,
          5.819,
          5.722,
          5.661,
          5.466,
          5.277,
          5.071
         ],
         "y0": " ",
         "yaxis": "y",
         "type": "box"
        },
        {
         "alignmentgroup": "True",
         "hovertemplate": "Continent=%{x}<br>Happiness Score=%{y}<extra></extra>",
         "legendgroup": "Asia",
         "marker": {
          "color": "#EF553B"
         },
         "name": "Asia",
         "notched": false,
         "offsetgroup": "Asia",
         "orientation": "v",
         "showlegend": true,
         "x": [
          "Asia",
          "Asia",
          "Asia",
          "Asia",
          "Asia",
          "Asia",
          "Asia",
          "Asia",
          "Asia",
          "Asia",
          "Asia",
          "Asia",
          "Asia",
          "Asia",
          "Asia",
          "Asia",
          "Asia",
          "Asia",
          "Asia",
          "Asia",
          "Asia",
          "Asia",
          "Asia",
          "Asia",
          "Asia",
          "Asia",
          "Asia",
          "Asia",
          "Asia",
          "Asia",
          "Asia",
          "Asia",
          "Asia",
          "Asia"
         ],
         "x0": " ",
         "xaxis": "x",
         "y": [
          7.473,
          6.587,
          6.571,
          6.463,
          6.173,
          6.144,
          6.13,
          6.129,
          6.014,
          6.012,
          5.951,
          5.843,
          5.84,
          5.825,
          5.818,
          5.763,
          5.523,
          5.36,
          5.342,
          5.33,
          5.277,
          5.111,
          5.109,
          4.941,
          4.876,
          4.555,
          4.442,
          4.393,
          4.372,
          4.282,
          4.12,
          4.036,
          2.392,
          1.859
         ],
         "y0": " ",
         "yaxis": "y",
         "type": "box"
        },
        {
         "alignmentgroup": "True",
         "hovertemplate": "Continent=%{x}<br>Happiness Score=%{y}<extra></extra>",
         "legendgroup": "Oceania",
         "marker": {
          "color": "#00cc96"
         },
         "name": "Oceania",
         "notched": false,
         "offsetgroup": "Oceania",
         "orientation": "v",
         "showlegend": true,
         "x": [
          "Oceania",
          "Oceania"
         ],
         "x0": " ",
         "xaxis": "x",
         "y": [
          7.123,
          7.095
         ],
         "y0": " ",
         "yaxis": "y",
         "type": "box"
        },
        {
         "alignmentgroup": "True",
         "hovertemplate": "Continent=%{x}<br>Happiness Score=%{y}<extra></extra>",
         "legendgroup": "Americas",
         "marker": {
          "color": "#ab63fa"
         },
         "name": "Americas",
         "notched": false,
         "offsetgroup": "Americas",
         "orientation": "v",
         "showlegend": true,
         "x": [
          "Americas",
          "Americas",
          "Americas",
          "Americas",
          "Americas",
          "Americas",
          "Americas",
          "Americas",
          "Americas",
          "Americas",
          "Americas",
          "Americas",
          "Americas",
          "Americas",
          "Americas",
          "Americas",
          "Americas",
          "Americas",
          "Americas",
          "Americas",
          "Americas"
         ],
         "x0": " ",
         "xaxis": "x",
         "y": [
          6.961,
          6.894,
          6.609,
          6.494,
          6.334,
          6.33,
          6.265,
          6.259,
          6.15,
          6.125,
          6.122,
          6.024,
          6.023,
          5.738,
          5.703,
          5.684,
          5.63,
          5.569,
          5.559,
          5.526,
          5.211
         ],
         "y0": " ",
         "yaxis": "y",
         "type": "box"
        },
        {
         "alignmentgroup": "True",
         "hovertemplate": "Continent=%{x}<br>Happiness Score=%{y}<extra></extra>",
         "legendgroup": "Africa",
         "marker": {
          "color": "#FFA15A"
         },
         "name": "Africa",
         "notched": false,
         "offsetgroup": "Africa",
         "orientation": "v",
         "showlegend": true,
         "x": [
          "Africa",
          "Africa",
          "Africa",
          "Africa",
          "Africa",
          "Africa",
          "Africa",
          "Africa",
          "Africa",
          "Africa",
          "Africa",
          "Africa",
          "Africa",
          "Africa",
          "Africa",
          "Africa",
          "Africa",
          "Africa",
          "Africa",
          "Africa",
          "Africa",
          "Africa",
          "Africa",
          "Africa",
          "Africa",
          "Africa",
          "Africa",
          "Africa",
          "Africa",
          "Africa",
          "Africa",
          "Africa",
          "Africa"
         ],
         "x0": " ",
         "xaxis": "x",
         "y": [
          5.902,
          5.329,
          5.275,
          5.072,
          5.035,
          4.981,
          4.973,
          4.954,
          4.903,
          4.855,
          4.724,
          4.638,
          4.631,
          4.605,
          4.501,
          4.497,
          4.487,
          4.432,
          4.397,
          4.374,
          4.198,
          4.17,
          4.137,
          4.091,
          4.042,
          4.019,
          3.982,
          3.694,
          3.545,
          3.495,
          3.435,
          3.204,
          3.138
         ],
         "y0": " ",
         "yaxis": "y",
         "type": "box"
        }
       ],
       "layout": {
        "template": {
         "data": {
          "histogram2dcontour": [
           {
            "type": "histogram2dcontour",
            "colorbar": {
             "outlinewidth": 0,
             "ticks": ""
            },
            "colorscale": [
             [
              0.0,
              "#0d0887"
             ],
             [
              0.1111111111111111,
              "#46039f"
             ],
             [
              0.2222222222222222,
              "#7201a8"
             ],
             [
              0.3333333333333333,
              "#9c179e"
             ],
             [
              0.4444444444444444,
              "#bd3786"
             ],
             [
              0.5555555555555556,
              "#d8576b"
             ],
             [
              0.6666666666666666,
              "#ed7953"
             ],
             [
              0.7777777777777778,
              "#fb9f3a"
             ],
             [
              0.8888888888888888,
              "#fdca26"
             ],
             [
              1.0,
              "#f0f921"
             ]
            ]
           }
          ],
          "choropleth": [
           {
            "type": "choropleth",
            "colorbar": {
             "outlinewidth": 0,
             "ticks": ""
            }
           }
          ],
          "histogram2d": [
           {
            "type": "histogram2d",
            "colorbar": {
             "outlinewidth": 0,
             "ticks": ""
            },
            "colorscale": [
             [
              0.0,
              "#0d0887"
             ],
             [
              0.1111111111111111,
              "#46039f"
             ],
             [
              0.2222222222222222,
              "#7201a8"
             ],
             [
              0.3333333333333333,
              "#9c179e"
             ],
             [
              0.4444444444444444,
              "#bd3786"
             ],
             [
              0.5555555555555556,
              "#d8576b"
             ],
             [
              0.6666666666666666,
              "#ed7953"
             ],
             [
              0.7777777777777778,
              "#fb9f3a"
             ],
             [
              0.8888888888888888,
              "#fdca26"
             ],
             [
              1.0,
              "#f0f921"
             ]
            ]
           }
          ],
          "heatmap": [
           {
            "type": "heatmap",
            "colorbar": {
             "outlinewidth": 0,
             "ticks": ""
            },
            "colorscale": [
             [
              0.0,
              "#0d0887"
             ],
             [
              0.1111111111111111,
              "#46039f"
             ],
             [
              0.2222222222222222,
              "#7201a8"
             ],
             [
              0.3333333333333333,
              "#9c179e"
             ],
             [
              0.4444444444444444,
              "#bd3786"
             ],
             [
              0.5555555555555556,
              "#d8576b"
             ],
             [
              0.6666666666666666,
              "#ed7953"
             ],
             [
              0.7777777777777778,
              "#fb9f3a"
             ],
             [
              0.8888888888888888,
              "#fdca26"
             ],
             [
              1.0,
              "#f0f921"
             ]
            ]
           }
          ],
          "heatmapgl": [
           {
            "type": "heatmapgl",
            "colorbar": {
             "outlinewidth": 0,
             "ticks": ""
            },
            "colorscale": [
             [
              0.0,
              "#0d0887"
             ],
             [
              0.1111111111111111,
              "#46039f"
             ],
             [
              0.2222222222222222,
              "#7201a8"
             ],
             [
              0.3333333333333333,
              "#9c179e"
             ],
             [
              0.4444444444444444,
              "#bd3786"
             ],
             [
              0.5555555555555556,
              "#d8576b"
             ],
             [
              0.6666666666666666,
              "#ed7953"
             ],
             [
              0.7777777777777778,
              "#fb9f3a"
             ],
             [
              0.8888888888888888,
              "#fdca26"
             ],
             [
              1.0,
              "#f0f921"
             ]
            ]
           }
          ],
          "contourcarpet": [
           {
            "type": "contourcarpet",
            "colorbar": {
             "outlinewidth": 0,
             "ticks": ""
            }
           }
          ],
          "contour": [
           {
            "type": "contour",
            "colorbar": {
             "outlinewidth": 0,
             "ticks": ""
            },
            "colorscale": [
             [
              0.0,
              "#0d0887"
             ],
             [
              0.1111111111111111,
              "#46039f"
             ],
             [
              0.2222222222222222,
              "#7201a8"
             ],
             [
              0.3333333333333333,
              "#9c179e"
             ],
             [
              0.4444444444444444,
              "#bd3786"
             ],
             [
              0.5555555555555556,
              "#d8576b"
             ],
             [
              0.6666666666666666,
              "#ed7953"
             ],
             [
              0.7777777777777778,
              "#fb9f3a"
             ],
             [
              0.8888888888888888,
              "#fdca26"
             ],
             [
              1.0,
              "#f0f921"
             ]
            ]
           }
          ],
          "surface": [
           {
            "type": "surface",
            "colorbar": {
             "outlinewidth": 0,
             "ticks": ""
            },
            "colorscale": [
             [
              0.0,
              "#0d0887"
             ],
             [
              0.1111111111111111,
              "#46039f"
             ],
             [
              0.2222222222222222,
              "#7201a8"
             ],
             [
              0.3333333333333333,
              "#9c179e"
             ],
             [
              0.4444444444444444,
              "#bd3786"
             ],
             [
              0.5555555555555556,
              "#d8576b"
             ],
             [
              0.6666666666666666,
              "#ed7953"
             ],
             [
              0.7777777777777778,
              "#fb9f3a"
             ],
             [
              0.8888888888888888,
              "#fdca26"
             ],
             [
              1.0,
              "#f0f921"
             ]
            ]
           }
          ],
          "mesh3d": [
           {
            "type": "mesh3d",
            "colorbar": {
             "outlinewidth": 0,
             "ticks": ""
            }
           }
          ],
          "scatter": [
           {
            "marker": {
             "line": {
              "color": "#283442"
             }
            },
            "type": "scatter"
           }
          ],
          "parcoords": [
           {
            "type": "parcoords",
            "line": {
             "colorbar": {
              "outlinewidth": 0,
              "ticks": ""
             }
            }
           }
          ],
          "scatterpolargl": [
           {
            "type": "scatterpolargl",
            "marker": {
             "colorbar": {
              "outlinewidth": 0,
              "ticks": ""
             }
            }
           }
          ],
          "bar": [
           {
            "error_x": {
             "color": "#f2f5fa"
            },
            "error_y": {
             "color": "#f2f5fa"
            },
            "marker": {
             "line": {
              "color": "rgb(17,17,17)",
              "width": 0.5
             },
             "pattern": {
              "fillmode": "overlay",
              "size": 10,
              "solidity": 0.2
             }
            },
            "type": "bar"
           }
          ],
          "scattergeo": [
           {
            "type": "scattergeo",
            "marker": {
             "colorbar": {
              "outlinewidth": 0,
              "ticks": ""
             }
            }
           }
          ],
          "scatterpolar": [
           {
            "type": "scatterpolar",
            "marker": {
             "colorbar": {
              "outlinewidth": 0,
              "ticks": ""
             }
            }
           }
          ],
          "histogram": [
           {
            "marker": {
             "pattern": {
              "fillmode": "overlay",
              "size": 10,
              "solidity": 0.2
             }
            },
            "type": "histogram"
           }
          ],
          "scattergl": [
           {
            "marker": {
             "line": {
              "color": "#283442"
             }
            },
            "type": "scattergl"
           }
          ],
          "scatter3d": [
           {
            "type": "scatter3d",
            "line": {
             "colorbar": {
              "outlinewidth": 0,
              "ticks": ""
             }
            },
            "marker": {
             "colorbar": {
              "outlinewidth": 0,
              "ticks": ""
             }
            }
           }
          ],
          "scattermapbox": [
           {
            "type": "scattermapbox",
            "marker": {
             "colorbar": {
              "outlinewidth": 0,
              "ticks": ""
             }
            }
           }
          ],
          "scatterternary": [
           {
            "type": "scatterternary",
            "marker": {
             "colorbar": {
              "outlinewidth": 0,
              "ticks": ""
             }
            }
           }
          ],
          "scattercarpet": [
           {
            "type": "scattercarpet",
            "marker": {
             "colorbar": {
              "outlinewidth": 0,
              "ticks": ""
             }
            }
           }
          ],
          "carpet": [
           {
            "aaxis": {
             "endlinecolor": "#A2B1C6",
             "gridcolor": "#506784",
             "linecolor": "#506784",
             "minorgridcolor": "#506784",
             "startlinecolor": "#A2B1C6"
            },
            "baxis": {
             "endlinecolor": "#A2B1C6",
             "gridcolor": "#506784",
             "linecolor": "#506784",
             "minorgridcolor": "#506784",
             "startlinecolor": "#A2B1C6"
            },
            "type": "carpet"
           }
          ],
          "table": [
           {
            "cells": {
             "fill": {
              "color": "#506784"
             },
             "line": {
              "color": "rgb(17,17,17)"
             }
            },
            "header": {
             "fill": {
              "color": "#2a3f5f"
             },
             "line": {
              "color": "rgb(17,17,17)"
             }
            },
            "type": "table"
           }
          ],
          "barpolar": [
           {
            "marker": {
             "line": {
              "color": "rgb(17,17,17)",
              "width": 0.5
             },
             "pattern": {
              "fillmode": "overlay",
              "size": 10,
              "solidity": 0.2
             }
            },
            "type": "barpolar"
           }
          ],
          "pie": [
           {
            "automargin": true,
            "type": "pie"
           }
          ]
         },
         "layout": {
          "autotypenumbers": "strict",
          "colorway": [
           "#636efa",
           "#EF553B",
           "#00cc96",
           "#ab63fa",
           "#FFA15A",
           "#19d3f3",
           "#FF6692",
           "#B6E880",
           "#FF97FF",
           "#FECB52"
          ],
          "font": {
           "color": "#f2f5fa"
          },
          "hovermode": "closest",
          "hoverlabel": {
           "align": "left"
          },
          "paper_bgcolor": "rgb(17,17,17)",
          "plot_bgcolor": "rgb(17,17,17)",
          "polar": {
           "bgcolor": "rgb(17,17,17)",
           "angularaxis": {
            "gridcolor": "#506784",
            "linecolor": "#506784",
            "ticks": ""
           },
           "radialaxis": {
            "gridcolor": "#506784",
            "linecolor": "#506784",
            "ticks": ""
           }
          },
          "ternary": {
           "bgcolor": "rgb(17,17,17)",
           "aaxis": {
            "gridcolor": "#506784",
            "linecolor": "#506784",
            "ticks": ""
           },
           "baxis": {
            "gridcolor": "#506784",
            "linecolor": "#506784",
            "ticks": ""
           },
           "caxis": {
            "gridcolor": "#506784",
            "linecolor": "#506784",
            "ticks": ""
           }
          },
          "coloraxis": {
           "colorbar": {
            "outlinewidth": 0,
            "ticks": ""
           }
          },
          "colorscale": {
           "sequential": [
            [
             0.0,
             "#0d0887"
            ],
            [
             0.1111111111111111,
             "#46039f"
            ],
            [
             0.2222222222222222,
             "#7201a8"
            ],
            [
             0.3333333333333333,
             "#9c179e"
            ],
            [
             0.4444444444444444,
             "#bd3786"
            ],
            [
             0.5555555555555556,
             "#d8576b"
            ],
            [
             0.6666666666666666,
             "#ed7953"
            ],
            [
             0.7777777777777778,
             "#fb9f3a"
            ],
            [
             0.8888888888888888,
             "#fdca26"
            ],
            [
             1.0,
             "#f0f921"
            ]
           ],
           "sequentialminus": [
            [
             0.0,
             "#0d0887"
            ],
            [
             0.1111111111111111,
             "#46039f"
            ],
            [
             0.2222222222222222,
             "#7201a8"
            ],
            [
             0.3333333333333333,
             "#9c179e"
            ],
            [
             0.4444444444444444,
             "#bd3786"
            ],
            [
             0.5555555555555556,
             "#d8576b"
            ],
            [
             0.6666666666666666,
             "#ed7953"
            ],
            [
             0.7777777777777778,
             "#fb9f3a"
            ],
            [
             0.8888888888888888,
             "#fdca26"
            ],
            [
             1.0,
             "#f0f921"
            ]
           ],
           "diverging": [
            [
             0,
             "#8e0152"
            ],
            [
             0.1,
             "#c51b7d"
            ],
            [
             0.2,
             "#de77ae"
            ],
            [
             0.3,
             "#f1b6da"
            ],
            [
             0.4,
             "#fde0ef"
            ],
            [
             0.5,
             "#f7f7f7"
            ],
            [
             0.6,
             "#e6f5d0"
            ],
            [
             0.7,
             "#b8e186"
            ],
            [
             0.8,
             "#7fbc41"
            ],
            [
             0.9,
             "#4d9221"
            ],
            [
             1,
             "#276419"
            ]
           ]
          },
          "xaxis": {
           "gridcolor": "#283442",
           "linecolor": "#506784",
           "ticks": "",
           "title": {
            "standoff": 15
           },
           "zerolinecolor": "#283442",
           "automargin": true,
           "zerolinewidth": 2
          },
          "yaxis": {
           "gridcolor": "#283442",
           "linecolor": "#506784",
           "ticks": "",
           "title": {
            "standoff": 15
           },
           "zerolinecolor": "#283442",
           "automargin": true,
           "zerolinewidth": 2
          },
          "scene": {
           "xaxis": {
            "backgroundcolor": "rgb(17,17,17)",
            "gridcolor": "#506784",
            "linecolor": "#506784",
            "showbackground": true,
            "ticks": "",
            "zerolinecolor": "#C8D4E3",
            "gridwidth": 2
           },
           "yaxis": {
            "backgroundcolor": "rgb(17,17,17)",
            "gridcolor": "#506784",
            "linecolor": "#506784",
            "showbackground": true,
            "ticks": "",
            "zerolinecolor": "#C8D4E3",
            "gridwidth": 2
           },
           "zaxis": {
            "backgroundcolor": "rgb(17,17,17)",
            "gridcolor": "#506784",
            "linecolor": "#506784",
            "showbackground": true,
            "ticks": "",
            "zerolinecolor": "#C8D4E3",
            "gridwidth": 2
           }
          },
          "shapedefaults": {
           "line": {
            "color": "#f2f5fa"
           }
          },
          "annotationdefaults": {
           "arrowcolor": "#f2f5fa",
           "arrowhead": 0,
           "arrowwidth": 1
          },
          "geo": {
           "bgcolor": "rgb(17,17,17)",
           "landcolor": "rgb(17,17,17)",
           "subunitcolor": "#506784",
           "showland": true,
           "showlakes": true,
           "lakecolor": "rgb(17,17,17)"
          },
          "title": {
           "x": 0.05
          },
          "updatemenudefaults": {
           "bgcolor": "#506784",
           "borderwidth": 0
          },
          "sliderdefaults": {
           "bgcolor": "#C8D4E3",
           "borderwidth": 1,
           "bordercolor": "rgb(17,17,17)",
           "tickwidth": 0
          },
          "mapbox": {
           "style": "dark"
          }
         }
        },
        "xaxis": {
         "anchor": "y",
         "domain": [
          0.0,
          1.0
         ],
         "title": {
          "text": "Continent"
         },
         "categoryorder": "array",
         "categoryarray": [
          "Europe",
          "Asia",
          "Oceania",
          "Americas",
          "Africa"
         ]
        },
        "yaxis": {
         "anchor": "x",
         "domain": [
          0.0,
          1.0
         ],
         "title": {
          "text": "Happiness Score"
         }
        },
        "legend": {
         "title": {
          "text": "Continent"
         },
         "tracegroupgap": 0
        },
        "title": {
         "text": "Distribution of Happiness Scores by Continent"
        },
        "boxmode": "overlay",
        "height": 400
       },
       "config": {
        "plotlyServerURL": "https://plot.ly"
       }
      },
      "text/html": "<div>                            <div id=\"6c064672-e676-4161-a08c-c22e0d92b292\" class=\"plotly-graph-div\" style=\"height:400px; width:100%;\"></div>            <script type=\"text/javascript\">                require([\"plotly\"], function(Plotly) {                    window.PLOTLYENV=window.PLOTLYENV || {};                                    if (document.getElementById(\"6c064672-e676-4161-a08c-c22e0d92b292\")) {                    Plotly.newPlot(                        \"6c064672-e676-4161-a08c-c22e0d92b292\",                        [{\"alignmentgroup\":\"True\",\"hovertemplate\":\"Continent=%{x}\\u003cbr\\u003eHappiness Score=%{y}\\u003cextra\\u003e\\u003c\\u002fextra\\u003e\",\"legendgroup\":\"Europe\",\"marker\":{\"color\":\"#636efa\"},\"name\":\"Europe\",\"notched\":false,\"offsetgroup\":\"Europe\",\"orientation\":\"v\",\"showlegend\":true,\"x\":[\"Europe\",\"Europe\",\"Europe\",\"Europe\",\"Europe\",\"Europe\",\"Europe\",\"Europe\",\"Europe\",\"Europe\",\"Europe\",\"Europe\",\"Europe\",\"Europe\",\"Europe\",\"Europe\",\"Europe\",\"Europe\",\"Europe\",\"Europe\",\"Europe\",\"Europe\",\"Europe\",\"Europe\",\"Europe\",\"Europe\",\"Europe\",\"Europe\",\"Europe\",\"Europe\",\"Europe\",\"Europe\",\"Europe\",\"Europe\"],\"x0\":\" \",\"xaxis\":\"x\",\"y\":[7.804,7.586,7.53,7.403,7.395,7.315,7.24,7.228,7.097,6.892,6.859,6.796,6.763,6.661,6.65,6.589,6.469,6.455,6.436,6.405,6.3,6.26,6.213,6.144,6.125,6.041,5.968,5.931,5.819,5.722,5.661,5.466,5.277,5.071],\"y0\":\" \",\"yaxis\":\"y\",\"type\":\"box\"},{\"alignmentgroup\":\"True\",\"hovertemplate\":\"Continent=%{x}\\u003cbr\\u003eHappiness Score=%{y}\\u003cextra\\u003e\\u003c\\u002fextra\\u003e\",\"legendgroup\":\"Asia\",\"marker\":{\"color\":\"#EF553B\"},\"name\":\"Asia\",\"notched\":false,\"offsetgroup\":\"Asia\",\"orientation\":\"v\",\"showlegend\":true,\"x\":[\"Asia\",\"Asia\",\"Asia\",\"Asia\",\"Asia\",\"Asia\",\"Asia\",\"Asia\",\"Asia\",\"Asia\",\"Asia\",\"Asia\",\"Asia\",\"Asia\",\"Asia\",\"Asia\",\"Asia\",\"Asia\",\"Asia\",\"Asia\",\"Asia\",\"Asia\",\"Asia\",\"Asia\",\"Asia\",\"Asia\",\"Asia\",\"Asia\",\"Asia\",\"Asia\",\"Asia\",\"Asia\",\"Asia\",\"Asia\"],\"x0\":\" \",\"xaxis\":\"x\",\"y\":[7.473,6.587,6.571,6.463,6.173,6.144,6.13,6.129,6.014,6.012,5.951,5.843,5.84,5.825,5.818,5.763,5.523,5.36,5.342,5.33,5.277,5.111,5.109,4.941,4.876,4.555,4.442,4.393,4.372,4.282,4.12,4.036,2.392,1.859],\"y0\":\" \",\"yaxis\":\"y\",\"type\":\"box\"},{\"alignmentgroup\":\"True\",\"hovertemplate\":\"Continent=%{x}\\u003cbr\\u003eHappiness Score=%{y}\\u003cextra\\u003e\\u003c\\u002fextra\\u003e\",\"legendgroup\":\"Oceania\",\"marker\":{\"color\":\"#00cc96\"},\"name\":\"Oceania\",\"notched\":false,\"offsetgroup\":\"Oceania\",\"orientation\":\"v\",\"showlegend\":true,\"x\":[\"Oceania\",\"Oceania\"],\"x0\":\" \",\"xaxis\":\"x\",\"y\":[7.123,7.095],\"y0\":\" \",\"yaxis\":\"y\",\"type\":\"box\"},{\"alignmentgroup\":\"True\",\"hovertemplate\":\"Continent=%{x}\\u003cbr\\u003eHappiness Score=%{y}\\u003cextra\\u003e\\u003c\\u002fextra\\u003e\",\"legendgroup\":\"Americas\",\"marker\":{\"color\":\"#ab63fa\"},\"name\":\"Americas\",\"notched\":false,\"offsetgroup\":\"Americas\",\"orientation\":\"v\",\"showlegend\":true,\"x\":[\"Americas\",\"Americas\",\"Americas\",\"Americas\",\"Americas\",\"Americas\",\"Americas\",\"Americas\",\"Americas\",\"Americas\",\"Americas\",\"Americas\",\"Americas\",\"Americas\",\"Americas\",\"Americas\",\"Americas\",\"Americas\",\"Americas\",\"Americas\",\"Americas\"],\"x0\":\" \",\"xaxis\":\"x\",\"y\":[6.961,6.894,6.609,6.494,6.334,6.33,6.265,6.259,6.15,6.125,6.122,6.024,6.023,5.738,5.703,5.684,5.63,5.569,5.559,5.526,5.211],\"y0\":\" \",\"yaxis\":\"y\",\"type\":\"box\"},{\"alignmentgroup\":\"True\",\"hovertemplate\":\"Continent=%{x}\\u003cbr\\u003eHappiness Score=%{y}\\u003cextra\\u003e\\u003c\\u002fextra\\u003e\",\"legendgroup\":\"Africa\",\"marker\":{\"color\":\"#FFA15A\"},\"name\":\"Africa\",\"notched\":false,\"offsetgroup\":\"Africa\",\"orientation\":\"v\",\"showlegend\":true,\"x\":[\"Africa\",\"Africa\",\"Africa\",\"Africa\",\"Africa\",\"Africa\",\"Africa\",\"Africa\",\"Africa\",\"Africa\",\"Africa\",\"Africa\",\"Africa\",\"Africa\",\"Africa\",\"Africa\",\"Africa\",\"Africa\",\"Africa\",\"Africa\",\"Africa\",\"Africa\",\"Africa\",\"Africa\",\"Africa\",\"Africa\",\"Africa\",\"Africa\",\"Africa\",\"Africa\",\"Africa\",\"Africa\",\"Africa\"],\"x0\":\" \",\"xaxis\":\"x\",\"y\":[5.902,5.329,5.275,5.072,5.035,4.981,4.973,4.954,4.903,4.855,4.724,4.638,4.631,4.605,4.501,4.497,4.487,4.432,4.397,4.374,4.198,4.17,4.137,4.091,4.042,4.019,3.982,3.694,3.545,3.495,3.435,3.204,3.138],\"y0\":\" \",\"yaxis\":\"y\",\"type\":\"box\"}],                        {\"template\":{\"data\":{\"histogram2dcontour\":[{\"type\":\"histogram2dcontour\",\"colorbar\":{\"outlinewidth\":0,\"ticks\":\"\"},\"colorscale\":[[0.0,\"#0d0887\"],[0.1111111111111111,\"#46039f\"],[0.2222222222222222,\"#7201a8\"],[0.3333333333333333,\"#9c179e\"],[0.4444444444444444,\"#bd3786\"],[0.5555555555555556,\"#d8576b\"],[0.6666666666666666,\"#ed7953\"],[0.7777777777777778,\"#fb9f3a\"],[0.8888888888888888,\"#fdca26\"],[1.0,\"#f0f921\"]]}],\"choropleth\":[{\"type\":\"choropleth\",\"colorbar\":{\"outlinewidth\":0,\"ticks\":\"\"}}],\"histogram2d\":[{\"type\":\"histogram2d\",\"colorbar\":{\"outlinewidth\":0,\"ticks\":\"\"},\"colorscale\":[[0.0,\"#0d0887\"],[0.1111111111111111,\"#46039f\"],[0.2222222222222222,\"#7201a8\"],[0.3333333333333333,\"#9c179e\"],[0.4444444444444444,\"#bd3786\"],[0.5555555555555556,\"#d8576b\"],[0.6666666666666666,\"#ed7953\"],[0.7777777777777778,\"#fb9f3a\"],[0.8888888888888888,\"#fdca26\"],[1.0,\"#f0f921\"]]}],\"heatmap\":[{\"type\":\"heatmap\",\"colorbar\":{\"outlinewidth\":0,\"ticks\":\"\"},\"colorscale\":[[0.0,\"#0d0887\"],[0.1111111111111111,\"#46039f\"],[0.2222222222222222,\"#7201a8\"],[0.3333333333333333,\"#9c179e\"],[0.4444444444444444,\"#bd3786\"],[0.5555555555555556,\"#d8576b\"],[0.6666666666666666,\"#ed7953\"],[0.7777777777777778,\"#fb9f3a\"],[0.8888888888888888,\"#fdca26\"],[1.0,\"#f0f921\"]]}],\"heatmapgl\":[{\"type\":\"heatmapgl\",\"colorbar\":{\"outlinewidth\":0,\"ticks\":\"\"},\"colorscale\":[[0.0,\"#0d0887\"],[0.1111111111111111,\"#46039f\"],[0.2222222222222222,\"#7201a8\"],[0.3333333333333333,\"#9c179e\"],[0.4444444444444444,\"#bd3786\"],[0.5555555555555556,\"#d8576b\"],[0.6666666666666666,\"#ed7953\"],[0.7777777777777778,\"#fb9f3a\"],[0.8888888888888888,\"#fdca26\"],[1.0,\"#f0f921\"]]}],\"contourcarpet\":[{\"type\":\"contourcarpet\",\"colorbar\":{\"outlinewidth\":0,\"ticks\":\"\"}}],\"contour\":[{\"type\":\"contour\",\"colorbar\":{\"outlinewidth\":0,\"ticks\":\"\"},\"colorscale\":[[0.0,\"#0d0887\"],[0.1111111111111111,\"#46039f\"],[0.2222222222222222,\"#7201a8\"],[0.3333333333333333,\"#9c179e\"],[0.4444444444444444,\"#bd3786\"],[0.5555555555555556,\"#d8576b\"],[0.6666666666666666,\"#ed7953\"],[0.7777777777777778,\"#fb9f3a\"],[0.8888888888888888,\"#fdca26\"],[1.0,\"#f0f921\"]]}],\"surface\":[{\"type\":\"surface\",\"colorbar\":{\"outlinewidth\":0,\"ticks\":\"\"},\"colorscale\":[[0.0,\"#0d0887\"],[0.1111111111111111,\"#46039f\"],[0.2222222222222222,\"#7201a8\"],[0.3333333333333333,\"#9c179e\"],[0.4444444444444444,\"#bd3786\"],[0.5555555555555556,\"#d8576b\"],[0.6666666666666666,\"#ed7953\"],[0.7777777777777778,\"#fb9f3a\"],[0.8888888888888888,\"#fdca26\"],[1.0,\"#f0f921\"]]}],\"mesh3d\":[{\"type\":\"mesh3d\",\"colorbar\":{\"outlinewidth\":0,\"ticks\":\"\"}}],\"scatter\":[{\"marker\":{\"line\":{\"color\":\"#283442\"}},\"type\":\"scatter\"}],\"parcoords\":[{\"type\":\"parcoords\",\"line\":{\"colorbar\":{\"outlinewidth\":0,\"ticks\":\"\"}}}],\"scatterpolargl\":[{\"type\":\"scatterpolargl\",\"marker\":{\"colorbar\":{\"outlinewidth\":0,\"ticks\":\"\"}}}],\"bar\":[{\"error_x\":{\"color\":\"#f2f5fa\"},\"error_y\":{\"color\":\"#f2f5fa\"},\"marker\":{\"line\":{\"color\":\"rgb(17,17,17)\",\"width\":0.5},\"pattern\":{\"fillmode\":\"overlay\",\"size\":10,\"solidity\":0.2}},\"type\":\"bar\"}],\"scattergeo\":[{\"type\":\"scattergeo\",\"marker\":{\"colorbar\":{\"outlinewidth\":0,\"ticks\":\"\"}}}],\"scatterpolar\":[{\"type\":\"scatterpolar\",\"marker\":{\"colorbar\":{\"outlinewidth\":0,\"ticks\":\"\"}}}],\"histogram\":[{\"marker\":{\"pattern\":{\"fillmode\":\"overlay\",\"size\":10,\"solidity\":0.2}},\"type\":\"histogram\"}],\"scattergl\":[{\"marker\":{\"line\":{\"color\":\"#283442\"}},\"type\":\"scattergl\"}],\"scatter3d\":[{\"type\":\"scatter3d\",\"line\":{\"colorbar\":{\"outlinewidth\":0,\"ticks\":\"\"}},\"marker\":{\"colorbar\":{\"outlinewidth\":0,\"ticks\":\"\"}}}],\"scattermapbox\":[{\"type\":\"scattermapbox\",\"marker\":{\"colorbar\":{\"outlinewidth\":0,\"ticks\":\"\"}}}],\"scatterternary\":[{\"type\":\"scatterternary\",\"marker\":{\"colorbar\":{\"outlinewidth\":0,\"ticks\":\"\"}}}],\"scattercarpet\":[{\"type\":\"scattercarpet\",\"marker\":{\"colorbar\":{\"outlinewidth\":0,\"ticks\":\"\"}}}],\"carpet\":[{\"aaxis\":{\"endlinecolor\":\"#A2B1C6\",\"gridcolor\":\"#506784\",\"linecolor\":\"#506784\",\"minorgridcolor\":\"#506784\",\"startlinecolor\":\"#A2B1C6\"},\"baxis\":{\"endlinecolor\":\"#A2B1C6\",\"gridcolor\":\"#506784\",\"linecolor\":\"#506784\",\"minorgridcolor\":\"#506784\",\"startlinecolor\":\"#A2B1C6\"},\"type\":\"carpet\"}],\"table\":[{\"cells\":{\"fill\":{\"color\":\"#506784\"},\"line\":{\"color\":\"rgb(17,17,17)\"}},\"header\":{\"fill\":{\"color\":\"#2a3f5f\"},\"line\":{\"color\":\"rgb(17,17,17)\"}},\"type\":\"table\"}],\"barpolar\":[{\"marker\":{\"line\":{\"color\":\"rgb(17,17,17)\",\"width\":0.5},\"pattern\":{\"fillmode\":\"overlay\",\"size\":10,\"solidity\":0.2}},\"type\":\"barpolar\"}],\"pie\":[{\"automargin\":true,\"type\":\"pie\"}]},\"layout\":{\"autotypenumbers\":\"strict\",\"colorway\":[\"#636efa\",\"#EF553B\",\"#00cc96\",\"#ab63fa\",\"#FFA15A\",\"#19d3f3\",\"#FF6692\",\"#B6E880\",\"#FF97FF\",\"#FECB52\"],\"font\":{\"color\":\"#f2f5fa\"},\"hovermode\":\"closest\",\"hoverlabel\":{\"align\":\"left\"},\"paper_bgcolor\":\"rgb(17,17,17)\",\"plot_bgcolor\":\"rgb(17,17,17)\",\"polar\":{\"bgcolor\":\"rgb(17,17,17)\",\"angularaxis\":{\"gridcolor\":\"#506784\",\"linecolor\":\"#506784\",\"ticks\":\"\"},\"radialaxis\":{\"gridcolor\":\"#506784\",\"linecolor\":\"#506784\",\"ticks\":\"\"}},\"ternary\":{\"bgcolor\":\"rgb(17,17,17)\",\"aaxis\":{\"gridcolor\":\"#506784\",\"linecolor\":\"#506784\",\"ticks\":\"\"},\"baxis\":{\"gridcolor\":\"#506784\",\"linecolor\":\"#506784\",\"ticks\":\"\"},\"caxis\":{\"gridcolor\":\"#506784\",\"linecolor\":\"#506784\",\"ticks\":\"\"}},\"coloraxis\":{\"colorbar\":{\"outlinewidth\":0,\"ticks\":\"\"}},\"colorscale\":{\"sequential\":[[0.0,\"#0d0887\"],[0.1111111111111111,\"#46039f\"],[0.2222222222222222,\"#7201a8\"],[0.3333333333333333,\"#9c179e\"],[0.4444444444444444,\"#bd3786\"],[0.5555555555555556,\"#d8576b\"],[0.6666666666666666,\"#ed7953\"],[0.7777777777777778,\"#fb9f3a\"],[0.8888888888888888,\"#fdca26\"],[1.0,\"#f0f921\"]],\"sequentialminus\":[[0.0,\"#0d0887\"],[0.1111111111111111,\"#46039f\"],[0.2222222222222222,\"#7201a8\"],[0.3333333333333333,\"#9c179e\"],[0.4444444444444444,\"#bd3786\"],[0.5555555555555556,\"#d8576b\"],[0.6666666666666666,\"#ed7953\"],[0.7777777777777778,\"#fb9f3a\"],[0.8888888888888888,\"#fdca26\"],[1.0,\"#f0f921\"]],\"diverging\":[[0,\"#8e0152\"],[0.1,\"#c51b7d\"],[0.2,\"#de77ae\"],[0.3,\"#f1b6da\"],[0.4,\"#fde0ef\"],[0.5,\"#f7f7f7\"],[0.6,\"#e6f5d0\"],[0.7,\"#b8e186\"],[0.8,\"#7fbc41\"],[0.9,\"#4d9221\"],[1,\"#276419\"]]},\"xaxis\":{\"gridcolor\":\"#283442\",\"linecolor\":\"#506784\",\"ticks\":\"\",\"title\":{\"standoff\":15},\"zerolinecolor\":\"#283442\",\"automargin\":true,\"zerolinewidth\":2},\"yaxis\":{\"gridcolor\":\"#283442\",\"linecolor\":\"#506784\",\"ticks\":\"\",\"title\":{\"standoff\":15},\"zerolinecolor\":\"#283442\",\"automargin\":true,\"zerolinewidth\":2},\"scene\":{\"xaxis\":{\"backgroundcolor\":\"rgb(17,17,17)\",\"gridcolor\":\"#506784\",\"linecolor\":\"#506784\",\"showbackground\":true,\"ticks\":\"\",\"zerolinecolor\":\"#C8D4E3\",\"gridwidth\":2},\"yaxis\":{\"backgroundcolor\":\"rgb(17,17,17)\",\"gridcolor\":\"#506784\",\"linecolor\":\"#506784\",\"showbackground\":true,\"ticks\":\"\",\"zerolinecolor\":\"#C8D4E3\",\"gridwidth\":2},\"zaxis\":{\"backgroundcolor\":\"rgb(17,17,17)\",\"gridcolor\":\"#506784\",\"linecolor\":\"#506784\",\"showbackground\":true,\"ticks\":\"\",\"zerolinecolor\":\"#C8D4E3\",\"gridwidth\":2}},\"shapedefaults\":{\"line\":{\"color\":\"#f2f5fa\"}},\"annotationdefaults\":{\"arrowcolor\":\"#f2f5fa\",\"arrowhead\":0,\"arrowwidth\":1},\"geo\":{\"bgcolor\":\"rgb(17,17,17)\",\"landcolor\":\"rgb(17,17,17)\",\"subunitcolor\":\"#506784\",\"showland\":true,\"showlakes\":true,\"lakecolor\":\"rgb(17,17,17)\"},\"title\":{\"x\":0.05},\"updatemenudefaults\":{\"bgcolor\":\"#506784\",\"borderwidth\":0},\"sliderdefaults\":{\"bgcolor\":\"#C8D4E3\",\"borderwidth\":1,\"bordercolor\":\"rgb(17,17,17)\",\"tickwidth\":0},\"mapbox\":{\"style\":\"dark\"}}},\"xaxis\":{\"anchor\":\"y\",\"domain\":[0.0,1.0],\"title\":{\"text\":\"Continent\"},\"categoryorder\":\"array\",\"categoryarray\":[\"Europe\",\"Asia\",\"Oceania\",\"Americas\",\"Africa\"]},\"yaxis\":{\"anchor\":\"x\",\"domain\":[0.0,1.0],\"title\":{\"text\":\"Happiness Score\"}},\"legend\":{\"title\":{\"text\":\"Continent\"},\"tracegroupgap\":0},\"title\":{\"text\":\"Distribution of Happiness Scores by Continent\"},\"boxmode\":\"overlay\",\"height\":400},                        {\"responsive\": true}                    ).then(function(){\n                            \nvar gd = document.getElementById('6c064672-e676-4161-a08c-c22e0d92b292');\nvar x = new MutationObserver(function (mutations, observer) {{\n        var display = window.getComputedStyle(gd).display;\n        if (!display || display === 'none') {{\n            console.log([gd, 'removed!']);\n            Plotly.purge(gd);\n            observer.disconnect();\n        }}\n}});\n\n// Listen for the removal of the full notebook cells\nvar notebookContainer = gd.closest('#notebook-container');\nif (notebookContainer) {{\n    x.observe(notebookContainer, {childList: true});\n}}\n\n// Listen for the clearing of the current output cell\nvar outputEl = gd.closest('.output');\nif (outputEl) {{\n    x.observe(outputEl, {childList: true});\n}}\n\n                        })                };                });            </script>        </div>"
     },
     "metadata": {},
     "output_type": "display_data"
    }
   ],
   "source": [
    "# Create a box plot showing the distribution of happiness scores by sub-region \n",
    "fig = px.box(full_data, x='region', y='Ladder score', \n",
    "             title='Distribution of Happiness Scores by Continent',\n",
    "             labels={'region': 'Continent', 'Ladder score': 'Happiness Score'},\n",
    "             color='region', \n",
    "             height=400)\n",
    "\n",
    "fig.update_layout(xaxis_title='Continent', yaxis_title='Happiness Score')\n",
    "\n",
    "fig.show()"
   ]
  },
  {
   "cell_type": "code",
   "execution_count": 25,
   "id": "667a5c18",
   "metadata": {
    "execution": {
     "iopub.execute_input": "2023-09-08T10:58:59.232295Z",
     "iopub.status.busy": "2023-09-08T10:58:59.231857Z",
     "iopub.status.idle": "2023-09-08T10:59:00.278341Z",
     "shell.execute_reply": "2023-09-08T10:59:00.277083Z"
    },
    "papermill": {
     "duration": 1.072546,
     "end_time": "2023-09-08T10:59:00.283847",
     "exception": false,
     "start_time": "2023-09-08T10:58:59.211301",
     "status": "completed"
    },
    "tags": [],
    "ExecuteTime": {
     "end_time": "2023-12-10T16:01:09.678857100Z",
     "start_time": "2023-12-10T16:01:09.411815900Z"
    }
   },
   "outputs": [
    {
     "name": "stderr",
     "output_type": "stream",
     "text": [
      "No artists with labels found to put in legend.  Note that artists whose label start with an underscore are ignored when legend() is called with no argument.\n"
     ]
    },
    {
     "data": {
      "text/plain": "<Figure size 1200x600 with 1 Axes>",
      "image/png": "[encoded data removed]"
     },
     "metadata": {},
     "output_type": "display_data"
    }
   ],
   "source": [
    "plt.figure(figsize=(12, 6))\n",
    "sns.boxplot(data=full_data, x='sub-region', y='Ladder score', hue='sub-region', width=3)\n",
    "plt.title('Distribution of Happiness Scores by Region')\n",
    "plt.xlabel('Region')\n",
    "plt.ylabel('Happiness Score')\n",
    "plt.xticks(rotation=90)\n",
    "plt.legend(title='Continent', loc='center left', bbox_to_anchor=(1, 0.5))\n",
    "plt.show()"
   ]
  },
  {
   "cell_type": "code",
   "execution_count": 26,
   "id": "e374d7f3",
   "metadata": {
    "execution": {
     "iopub.execute_input": "2023-09-08T10:59:00.334141Z",
     "iopub.status.busy": "2023-09-08T10:59:00.333718Z",
     "iopub.status.idle": "2023-09-08T10:59:00.900828Z",
     "shell.execute_reply": "2023-09-08T10:59:00.899578Z"
    },
    "papermill": {
     "duration": 0.593054,
     "end_time": "2023-09-08T10:59:00.903920",
     "exception": false,
     "start_time": "2023-09-08T10:59:00.310866",
     "status": "completed"
    },
    "tags": [],
    "ExecuteTime": {
     "end_time": "2023-12-10T16:01:24.060811700Z",
     "start_time": "2023-12-10T16:01:23.875168Z"
    }
   },
   "outputs": [
    {
     "data": {
      "text/plain": "<Figure size 1200x600 with 1 Axes>",
      "image/png": "[encoded data removed]"
     },
     "metadata": {},
     "output_type": "display_data"
    }
   ],
   "source": [
    "# Get the top 10 official languages among high happiness countries\n",
    "top_languages = happiest_countries['Official language'].value_counts().head(14)\n",
    "\n",
    "# Create a bar chart\n",
    "plt.figure(figsize=(12, 6))  # Adjust the figure size as needed\n",
    "top_languages.plot(kind='bar', color='orange')\n",
    "\n",
    "# Customize the plot\n",
    "plt.title('Top Official Languages in Countries with Happiness Score > 6.6 (2023)')\n",
    "plt.xlabel('Official Language')\n",
    "plt.ylabel('Number of Countries')\n",
    "plt.xticks(rotation=45)\n",
    "\n",
    "# Show the plot\n",
    "plt.tight_layout()\n",
    "plt.show()"
   ]
  },
  {
   "cell_type": "markdown",
   "id": "883fa317",
   "metadata": {
    "papermill": {
     "duration": 0.021564,
     "end_time": "2023-09-08T10:59:00.946501",
     "exception": false,
     "start_time": "2023-09-08T10:59:00.924937",
     "status": "completed"
    },
    "tags": []
   },
   "source": [
    "# **Conclusions**\n",
    "\n",
    "Important Factors\n",
    "\n",
    "From analysing the data above, the most important factors in the Happiness Score of a Country are Social Support and GDP. The wealth of a country also suggests correlation to higher scores in other factors such as the life expectancy and social support. However, it is important to note that correlation is not causation, but it can provide importnat information for governments to understand which factors are important to the well-being of their citizens. \n",
    "\n",
    "\n",
    "Geography and Language\n",
    "\n",
    "Although Oceania and Western European countries are more likely to be higher scoring, there does not seem to be a global correlation between geography and the happiness score of a country. Northern Africa does have the lowest sub-regional score. \n",
    "\n",
    "Althought English as the Official Language accounts for 25% of the top 20 scoring countries, the distribution shows that this does not explain global correlation. However, German-speaking countries do tend to have higher scores and less of a distribution. "
   ]
  }
 ],
 "kernelspec": {
  "display_name": "Python 3",
  "language": "python",
  "name": "python3"
 },
 "language_info": {
  "codemirror_mode": {
   "name": "ipython",
   "version": 3
  },
  "file_extension": ".py",
  "mimetype": "text/x-python",
  "name": "python",
  "nbconvert_exporter": "python",
  "pygments_lexer": "ipython3",
  "version": "3.6.4"
 },
 "metadata": {
  "kernelspec": {
   "display_name": "Python 3",
   "language": "python",
   "name": "python3"
  },
  "language_info": {
   "codemirror_mode": {
    "name": "ipython",
    "version": 3
   },
   "file_extension": ".py",
   "mimetype": "text/x-python",
   "name": "python",
   "nbconvert_exporter": "python",
   "pygments_lexer": "ipython3",
   "version": "3.10.12"
  },
  "papermill": {
   "default_parameters": {},
   "duration": 16.618981,
   "end_time": "2023-09-08T10:59:01.891915",
   "environment_variables": {},
   "exception": null,
   "input_path": "__notebook__.ipynb",
   "output_path": "__notebook__.ipynb",
   "parameters": {},
   "start_time": "2023-09-08T10:58:45.272934",
   "version": "2.4.0"
  }
 },
 "nbformat": 4,
 "nbformat_minor": 5
}
